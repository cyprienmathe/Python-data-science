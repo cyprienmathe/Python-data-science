{
 "cells": [
  {
   "cell_type": "code",
   "execution_count": 2,
   "id": "cb79b206-3659-49c4-9139-b69d6415539b",
   "metadata": {},
   "outputs": [
    {
     "name": "stdout",
     "output_type": "stream",
     "text": [
      "dict_keys(['total_count', 'results'])\n",
      "   total_count                                            results\n",
      "0        38762  {'inst_numero': 'I010040012', 'inst_nom': 'Par...\n",
      "1        38762  {'inst_numero': 'I010040012', 'inst_nom': 'Par...\n",
      "2        38762  {'inst_numero': 'I010040012', 'inst_nom': 'Par...\n",
      "3        38762  {'inst_numero': 'I010040017', 'inst_nom': 'Sal...\n",
      "4        38762  {'inst_numero': 'I010070003', 'inst_nom': 'Sta...\n"
     ]
    }
   ],
   "source": [
    "import pandas as pd\n",
    "import geopandas as gpd\n",
    "import matplotlib.pyplot as plt\n",
    "import requests\n",
    "\n",
    "# URL avec les spécifications\n",
    "api_url = \"https://equipements.sports.gouv.fr/api/explore/v2.1/catalog/datasets/data-es/records?where=equip_type_name%20like%20%27Court%20de%20tennis%27&limit=100\"\n",
    "# Conversion en disctionnaire json\n",
    "req = requests.get(api_url)\n",
    "wb = req.json()\n",
    "print(wb.keys())\n",
    "\n",
    "df = pd.DataFrame(wb)\n",
    "print(df.head())"
   ]
  },
  {
   "cell_type": "code",
   "execution_count": null,
   "id": "acb0f06e-04d8-4250-a78b-1550b2235637",
   "metadata": {},
   "outputs": [],
   "source": []
  }
 ],
 "metadata": {
  "kernelspec": {
   "display_name": "Python 3 (ipykernel)",
   "language": "python",
   "name": "python3"
  },
  "language_info": {
   "codemirror_mode": {
    "name": "ipython",
    "version": 3
   },
   "file_extension": ".py",
   "mimetype": "text/x-python",
   "name": "python",
   "nbconvert_exporter": "python",
   "pygments_lexer": "ipython3",
   "version": "3.12.6"
  }
 },
 "nbformat": 4,
 "nbformat_minor": 5
}
