{
 "cells": [
  {
   "cell_type": "code",
   "execution_count": 11,
   "id": "cb79b206-3659-49c4-9139-b69d6415539b",
   "metadata": {},
   "outputs": [],
   "source": [
    "import pandas as pd\n",
    "import geopandas as gpd\n",
    "import matplotlib.pyplot as plt\n",
    "import requests\n",
    "\n",
    "# URL avec les spécifications\n",
    "api_url = \"https://equipements.sports.gouv.fr/api/explore/v2.1/catalog/datasets/data-es/records?where=equip_type_name%20like%20%27Court%20de%20tennis%27&limit=100\"\n",
    "# Conversion en dictionnaire json\n",
    "req = requests.get(api_url)\n",
    "wb = req.json()\n",
    "\n",
    "# Création de la dataframe\n",
    "\n",
    "df = pd.DataFrame(wb['results'])"
   ]
  },
  {
   "cell_type": "code",
   "execution_count": 12,
   "id": "acb0f06e-04d8-4250-a78b-1550b2235637",
   "metadata": {},
   "outputs": [
    {
     "name": "stdout",
     "output_type": "stream",
     "text": [
      "dict_keys(['total_count', 'results'])\n",
      "  inst_numero                       inst_nom              inst_adresse  \\\n",
      "0  I130190007          PARC CLUB DE L'ARBOIS  Route Départementale 543   \n",
      "1  I130190007          PARC CLUB DE L'ARBOIS  Route Départementale 543   \n",
      "2  I130190007          PARC CLUB DE L'ARBOIS  Route Départementale 543   \n",
      "3  I130190007          PARC CLUB DE L'ARBOIS  Route Départementale 543   \n",
      "4  I130210007  TENNIS CLUB DE CARRY LE ROUET       QUARTIER DE LA LOGE   \n",
      "\n",
      "  inst_cp inst_com_code    inst_com_nom new_code        new_name inst_actif  \\\n",
      "0   13480         13019         Cabriès    13019         Cabriès       True   \n",
      "1   13480         13019         Cabriès    13019         Cabriès       True   \n",
      "2   13480         13019         Cabriès    13019         Cabriès       True   \n",
      "3   13480         13019         Cabriès    13019         Cabriès       True   \n",
      "4   13620         13021  Carry-le-Rouet    13021  Carry-le-Rouet       True   \n",
      "\n",
      "  inst_etat  ... dep_code dep_code_filled           dep_nom  \\\n",
      "0    Validé  ...       13              13  Bouches-du-Rhône   \n",
      "1    Validé  ...       13              13  Bouches-du-Rhône   \n",
      "2    Validé  ...       13              13  Bouches-du-Rhône   \n",
      "3    Validé  ...       13              13  Bouches-du-Rhône   \n",
      "4    Validé  ...       13              13  Bouches-du-Rhône   \n",
      "\n",
      "                    aca_nom reg_code                     reg_nom dens_niveau  \\\n",
      "0  Académie d'Aix-Marseille       93  Provence-Alpes-Côte d'Azur           4   \n",
      "1  Académie d'Aix-Marseille       93  Provence-Alpes-Côte d'Azur           4   \n",
      "2  Académie d'Aix-Marseille       93  Provence-Alpes-Côte d'Azur           4   \n",
      "3  Académie d'Aix-Marseille       93  Provence-Alpes-Côte d'Azur           4   \n",
      "4  Académie d'Aix-Marseille       93  Provence-Alpes-Côte d'Azur           3   \n",
      "\n",
      "             dens_lib                  zrr_simp categorie  \n",
      "0  Ceintures urbaines  NC - Commune non classée      None  \n",
      "1  Ceintures urbaines  NC - Commune non classée      None  \n",
      "2  Ceintures urbaines  NC - Commune non classée      None  \n",
      "3  Ceintures urbaines  NC - Commune non classée      None  \n",
      "4      Petites villes  NC - Commune non classée      None  \n",
      "\n",
      "[5 rows x 117 columns]\n"
     ]
    }
   ],
   "source": [
    "print(wb.keys())\n",
    "print(df.head())"
   ]
  },
  {
   "cell_type": "code",
   "execution_count": null,
   "id": "02073b01-67dc-4eae-b8a3-a6c16feafba2",
   "metadata": {},
   "outputs": [],
   "source": []
  },
  {
   "cell_type": "code",
   "execution_count": null,
   "id": "0203d1e9-530b-4353-983d-b95bb44afd70",
   "metadata": {},
   "outputs": [],
   "source": []
  }
 ],
 "metadata": {
  "kernelspec": {
   "display_name": "Python 3 (ipykernel)",
   "language": "python",
   "name": "python3"
  },
  "language_info": {
   "codemirror_mode": {
    "name": "ipython",
    "version": 3
   },
   "file_extension": ".py",
   "mimetype": "text/x-python",
   "name": "python",
   "nbconvert_exporter": "python",
   "pygments_lexer": "ipython3",
   "version": "3.12.6"
  }
 },
 "nbformat": 4,
 "nbformat_minor": 5
}
