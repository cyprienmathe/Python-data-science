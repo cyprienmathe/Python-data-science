{
 "cells": [
  {
   "cell_type": "code",
   "execution_count": 17,
   "id": "cd76b051-dffd-4df9-bbe4-d8710d9449b5",
   "metadata": {},
   "outputs": [
    {
     "name": "stdout",
     "output_type": "stream",
     "text": [
      "Collecting geopy\n",
      "  Downloading geopy-2.4.1-py3-none-any.whl.metadata (6.8 kB)\n",
      "Collecting geographiclib<3,>=1.52 (from geopy)\n",
      "  Downloading geographiclib-2.0-py3-none-any.whl.metadata (1.4 kB)\n",
      "Downloading geopy-2.4.1-py3-none-any.whl (125 kB)\n",
      "Downloading geographiclib-2.0-py3-none-any.whl (40 kB)\n",
      "Installing collected packages: geographiclib, geopy\n",
      "Successfully installed geographiclib-2.0 geopy-2.4.1\n",
      "Note: you may need to restart the kernel to use updated packages.\n"
     ]
    }
   ],
   "source": [
    "pip install geopy"
   ]
  },
  {
   "cell_type": "code",
   "execution_count": 18,
   "id": "a3fdd887-5901-42e8-8570-3aa7810184fd",
   "metadata": {},
   "outputs": [],
   "source": [
    "#Mise en place de la dataframe GeoPandas\n",
    "import math\n",
    "import pandas as pd\n",
    "import geopandas as gpd\n",
    "from shapely.geometry import Point\n",
    "import matplotlib.pyplot as plt\n",
    "import requests\n",
    "import io\n",
    "from geopy.geocoders import Nominatim"
   ]
  },
  {
   "cell_type": "code",
   "execution_count": 6,
   "id": "518945ce-e9f4-4227-a288-b36dedd1d549",
   "metadata": {},
   "outputs": [],
   "source": [
    "json_url = \"https://equipements.sports.gouv.fr/api/explore/v2.1/catalog/datasets/data-es/exports/json?lang=fr&timezone=Europe%2FParis&select=equip_nom%2C%20equip_service_date%2C%20equip_type_name%2C%20coordonnees%2C%20equip_x%2C%20equip_y&where=reg_nom%20like%20%22Ile%20de%20France%22\"\n",
    "req = requests.get(json_url)\n",
    "json_data = req.json()\n",
    "df_dirty = pd.DataFrame(json_data)\n",
    "df_dirty['equip_service_date'] = pd.to_numeric(df_dirty['equip_service_date'], errors='coerce')\n",
    "df = df_dirty.dropna(subset=['equip_service_date'])\n",
    "\n",
    "# Les coordonnées sont au format WGS84 d'après la documentation. On définit donc le CRS en adéquation.\n",
    "geodf = gpd.GeoDataFrame(df, geometry=gpd.points_from_xy(df['equip_x'], df['equip_y']), crs=\"EPSG:4326\")  "
   ]
  },
  {
   "cell_type": "code",
   "execution_count": 8,
   "id": "a5acb202-0e34-4b8c-8f41-76c99e5ba6dc",
   "metadata": {},
   "outputs": [
    {
     "data": {
      "text/html": [
       "<div>\n",
       "<style scoped>\n",
       "    .dataframe tbody tr th:only-of-type {\n",
       "        vertical-align: middle;\n",
       "    }\n",
       "\n",
       "    .dataframe tbody tr th {\n",
       "        vertical-align: top;\n",
       "    }\n",
       "\n",
       "    .dataframe thead th {\n",
       "        text-align: right;\n",
       "    }\n",
       "</style>\n",
       "<table border=\"1\" class=\"dataframe\">\n",
       "  <thead>\n",
       "    <tr style=\"text-align: right;\">\n",
       "      <th></th>\n",
       "      <th>equip_nom</th>\n",
       "      <th>equip_service_date</th>\n",
       "      <th>equip_type_name</th>\n",
       "      <th>coordonnees</th>\n",
       "      <th>equip_x</th>\n",
       "      <th>equip_y</th>\n",
       "      <th>geometry</th>\n",
       "    </tr>\n",
       "  </thead>\n",
       "  <tbody>\n",
       "    <tr>\n",
       "      <th>1</th>\n",
       "      <td>BASIC FIT</td>\n",
       "      <td>2016.0</td>\n",
       "      <td>Salle de musculation/cardiotraining</td>\n",
       "      <td>{'lon': 2.3767416544109823, 'lat': 48.89838868...</td>\n",
       "      <td>2.376742</td>\n",
       "      <td>48.898389</td>\n",
       "      <td>POINT (2.37674 48.89839)</td>\n",
       "    </tr>\n",
       "    <tr>\n",
       "      <th>2</th>\n",
       "      <td>BASIC FIT</td>\n",
       "      <td>2018.0</td>\n",
       "      <td>Salle de musculation/cardiotraining</td>\n",
       "      <td>{'lon': 2.3326502246915686, 'lat': 48.87474222...</td>\n",
       "      <td>2.332650</td>\n",
       "      <td>48.874742</td>\n",
       "      <td>POINT (2.33265 48.87474)</td>\n",
       "    </tr>\n",
       "    <tr>\n",
       "      <th>3</th>\n",
       "      <td>BASIC FIT</td>\n",
       "      <td>2019.0</td>\n",
       "      <td>Salle de musculation/cardiotraining</td>\n",
       "      <td>{'lon': 2.3176443248208667, 'lat': 48.84149468...</td>\n",
       "      <td>2.317644</td>\n",
       "      <td>48.841495</td>\n",
       "      <td>POINT (2.31764 48.84149)</td>\n",
       "    </tr>\n",
       "    <tr>\n",
       "      <th>4</th>\n",
       "      <td>BASIC FIT</td>\n",
       "      <td>2022.0</td>\n",
       "      <td>Salle de musculation/cardiotraining</td>\n",
       "      <td>{'lon': 2.315861021587572, 'lat': 48.822772718...</td>\n",
       "      <td>2.315861</td>\n",
       "      <td>48.822773</td>\n",
       "      <td>POINT (2.31586 48.82277)</td>\n",
       "    </tr>\n",
       "    <tr>\n",
       "      <th>5</th>\n",
       "      <td>BASIC FIT</td>\n",
       "      <td>2022.0</td>\n",
       "      <td>Salle de musculation/cardiotraining</td>\n",
       "      <td>None</td>\n",
       "      <td>NaN</td>\n",
       "      <td>NaN</td>\n",
       "      <td>POINT (NaN NaN)</td>\n",
       "    </tr>\n",
       "    <tr>\n",
       "      <th>6</th>\n",
       "      <td>BASIC FIT</td>\n",
       "      <td>2022.0</td>\n",
       "      <td>Salle de musculation/cardiotraining</td>\n",
       "      <td>{'lon': 2.2954734471048996, 'lat': 48.85065338...</td>\n",
       "      <td>2.295473</td>\n",
       "      <td>48.850653</td>\n",
       "      <td>POINT (2.29547 48.85065)</td>\n",
       "    </tr>\n",
       "    <tr>\n",
       "      <th>7</th>\n",
       "      <td>BASIC FIT</td>\n",
       "      <td>2023.0</td>\n",
       "      <td>Salle de musculation/cardiotraining</td>\n",
       "      <td>{'lon': 2.3817811657754366, 'lat': 48.88357707...</td>\n",
       "      <td>2.381781</td>\n",
       "      <td>48.883577</td>\n",
       "      <td>POINT (2.38178 48.88358)</td>\n",
       "    </tr>\n",
       "    <tr>\n",
       "      <th>8</th>\n",
       "      <td>ESPACE ABDOS-STRETCHING</td>\n",
       "      <td>2013.0</td>\n",
       "      <td>Salle de musculation/cardiotraining</td>\n",
       "      <td>{'lon': 2.33966, 'lat': 48.86198}</td>\n",
       "      <td>2.339660</td>\n",
       "      <td>48.861980</td>\n",
       "      <td>POINT (2.33966 48.86198)</td>\n",
       "    </tr>\n",
       "    <tr>\n",
       "      <th>9</th>\n",
       "      <td>SALLE DE L'INSTITUT</td>\n",
       "      <td>1997.0</td>\n",
       "      <td>Dojo / Salle d'arts martiaux</td>\n",
       "      <td>{'lon': 2.34405, 'lat': 48.86421}</td>\n",
       "      <td>2.344050</td>\n",
       "      <td>48.864210</td>\n",
       "      <td>POINT (2.34405 48.86421)</td>\n",
       "    </tr>\n",
       "    <tr>\n",
       "      <th>12</th>\n",
       "      <td>SALLE N°4</td>\n",
       "      <td>2000.0</td>\n",
       "      <td>Salle de danse</td>\n",
       "      <td>{'lon': 2.33246, 'lat': 48.86645}</td>\n",
       "      <td>2.332460</td>\n",
       "      <td>48.866450</td>\n",
       "      <td>POINT (2.33246 48.86645)</td>\n",
       "    </tr>\n",
       "  </tbody>\n",
       "</table>\n",
       "</div>"
      ],
      "text/plain": [
       "                  equip_nom  equip_service_date  \\\n",
       "1                 BASIC FIT              2016.0   \n",
       "2                 BASIC FIT              2018.0   \n",
       "3                 BASIC FIT              2019.0   \n",
       "4                 BASIC FIT              2022.0   \n",
       "5                 BASIC FIT              2022.0   \n",
       "6                 BASIC FIT              2022.0   \n",
       "7                 BASIC FIT              2023.0   \n",
       "8   ESPACE ABDOS-STRETCHING              2013.0   \n",
       "9       SALLE DE L'INSTITUT              1997.0   \n",
       "12                SALLE N°4              2000.0   \n",
       "\n",
       "                        equip_type_name  \\\n",
       "1   Salle de musculation/cardiotraining   \n",
       "2   Salle de musculation/cardiotraining   \n",
       "3   Salle de musculation/cardiotraining   \n",
       "4   Salle de musculation/cardiotraining   \n",
       "5   Salle de musculation/cardiotraining   \n",
       "6   Salle de musculation/cardiotraining   \n",
       "7   Salle de musculation/cardiotraining   \n",
       "8   Salle de musculation/cardiotraining   \n",
       "9          Dojo / Salle d'arts martiaux   \n",
       "12                       Salle de danse   \n",
       "\n",
       "                                          coordonnees   equip_x    equip_y  \\\n",
       "1   {'lon': 2.3767416544109823, 'lat': 48.89838868...  2.376742  48.898389   \n",
       "2   {'lon': 2.3326502246915686, 'lat': 48.87474222...  2.332650  48.874742   \n",
       "3   {'lon': 2.3176443248208667, 'lat': 48.84149468...  2.317644  48.841495   \n",
       "4   {'lon': 2.315861021587572, 'lat': 48.822772718...  2.315861  48.822773   \n",
       "5                                                None       NaN        NaN   \n",
       "6   {'lon': 2.2954734471048996, 'lat': 48.85065338...  2.295473  48.850653   \n",
       "7   {'lon': 2.3817811657754366, 'lat': 48.88357707...  2.381781  48.883577   \n",
       "8                   {'lon': 2.33966, 'lat': 48.86198}  2.339660  48.861980   \n",
       "9                   {'lon': 2.34405, 'lat': 48.86421}  2.344050  48.864210   \n",
       "12                  {'lon': 2.33246, 'lat': 48.86645}  2.332460  48.866450   \n",
       "\n",
       "                    geometry  \n",
       "1   POINT (2.37674 48.89839)  \n",
       "2   POINT (2.33265 48.87474)  \n",
       "3   POINT (2.31764 48.84149)  \n",
       "4   POINT (2.31586 48.82277)  \n",
       "5            POINT (NaN NaN)  \n",
       "6   POINT (2.29547 48.85065)  \n",
       "7   POINT (2.38178 48.88358)  \n",
       "8   POINT (2.33966 48.86198)  \n",
       "9   POINT (2.34405 48.86421)  \n",
       "12  POINT (2.33246 48.86645)  "
      ]
     },
     "execution_count": 8,
     "metadata": {},
     "output_type": "execute_result"
    }
   ],
   "source": [
    "#Test\n",
    "geodf.head(10)"
   ]
  },
  {
   "cell_type": "code",
   "execution_count": 9,
   "id": "0719f2ff-3a75-4203-bab5-1fcd2aa006de",
   "metadata": {},
   "outputs": [],
   "source": [
    "#Recherche de l'infrastructure la plus proche de (x,y) en exploitant les opérations vectorisées de Pandas :\n",
    "def closest_infra(x,y) :\n",
    "    point = Point(x,y) # Coord. en format WGS84\n",
    "    geodf_proj = geodf.to_crs(epsg=3857) \n",
    "    point_proj = gpd.GeoSeries([point], crs=\"EPSG:4326\").to_crs(epsg=3857)[0] # Reprojeter les coordonnées (format WGS84) en système métrique pour augmenter la précision\n",
    "    geodf_proj['distance'] = geodf_proj.geometry.distance(point_proj) # Calcul des distances entre notre point et toutes les infrastructures, grâce à GeoPandas\n",
    "    indice_closest = geodf_proj['distance'].idxmin() # Retourner l'indice du minimul avec idxmin\n",
    "    return geodf.loc[indice_closest]"
   ]
  },
  {
   "cell_type": "code",
   "execution_count": 10,
   "id": "6dba0536-6192-4069-8841-5f656084613d",
   "metadata": {},
   "outputs": [
    {
     "data": {
      "text/plain": [
       "equip_nom                           PLATEAU D'EVOLUTION\n",
       "equip_service_date                               1975.0\n",
       "equip_type_name                 Multisports/City-stades\n",
       "coordonnees           {'lon': 2.42674, 'lat': 48.54706}\n",
       "equip_x                                         2.42674\n",
       "equip_y                                        48.54706\n",
       "geometry                       POINT (2.42674 48.54706)\n",
       "Name: 799, dtype: object"
      ]
     },
     "execution_count": 10,
     "metadata": {},
     "output_type": "execute_result"
    }
   ],
   "source": [
    "closest_infra(2.422434324, 48.54397854)"
   ]
  },
  {
   "cell_type": "code",
   "execution_count": 11,
   "id": "8feeea5f-7fd8-4e9f-a603-ac2f65aafc82",
   "metadata": {},
   "outputs": [
    {
     "data": {
      "text/plain": [
       "equip_nom                           TERRAIN DE FOOTBALL\n",
       "equip_service_date                               1999.0\n",
       "equip_type_name                     Terrain de football\n",
       "coordonnees           {'lon': 2.61341, 'lat': 48.14217}\n",
       "equip_x                                         2.61341\n",
       "equip_y                                        48.14217\n",
       "geometry                       POINT (2.61341 48.14217)\n",
       "Name: 9535, dtype: object"
      ]
     },
     "execution_count": 11,
     "metadata": {},
     "output_type": "execute_result"
    }
   ],
   "source": [
    "closest_infra(1.422434324, 45.54397854)"
   ]
  },
  {
   "cell_type": "code",
   "execution_count": 19,
   "id": "0b197722-d402-4e00-a03a-3dae041c8b06",
   "metadata": {},
   "outputs": [],
   "source": [
    "def closest_infra_address(address, gdf):\n",
    "    geolocator = Nominatim(user_agent=\"projet_python_infra_sport\") #Géocodage de l'adresse\n",
    "    location = geolocator.geocode(address)\n",
    "    #\n",
    "    if location is None:\n",
    "        raise ValueError(\"Adresse introuvable\")\n",
    "    #\n",
    "    input_point = Point(location.longitude, location.latitude) #Récupération des coordonnées géographiques\n",
    "    input_gdf = gpd.GeoDataFrame(geometry=[input_point], crs=\"EPSG:4326\")\n",
    "    #\n",
    "    gdf_proj = gdf.to_crs(\"EPSG:2154\") # Projection de gdf en système métrique, base temporaire (pour obtenir la distance en mètres)\n",
    "    input_gdf_proj = input_gdf.to_crs(\"EPSG:2154\") # Projection des coordonnées géographiques en système métrique\n",
    "    input_point_proj = input_gdf_proj.geometry.iloc[0] # Extraction du point reprojeté en système métrique\n",
    "    #\n",
    "    gdf_proj['distance'] = gdf_proj.geometry.distance(input_point_proj) # Calcul des distances en système métrique\n",
    "    closest_id = gdf_proj['distance'].idxmin() # Retourner l'indice du minimul avec idxmin\n",
    "    closest = gdf.loc[closest_id] # Obtenir l'infrastructure la plus proche dans la base principale\n",
    "    dist = gdf_proj.loc[closest_id, 'distance'] # Obtenir la distance\n",
    "    return closest, dist"
   ]
  },
  {
   "cell_type": "code",
   "execution_count": 20,
   "id": "50cd534d-1ae5-4ffb-8991-d61acb70731a",
   "metadata": {},
   "outputs": [
    {
     "data": {
      "text/plain": [
       "(equip_nom                                        MANEGE\n",
       " equip_service_date                               1976.0\n",
       " equip_type_name                                  Manège\n",
       " coordonnees           {'lon': 2.20645, 'lat': 48.70994}\n",
       " equip_x                                         2.20645\n",
       " equip_y                                        48.70994\n",
       " geometry                       POINT (2.20645 48.70994)\n",
       " Name: 1665, dtype: object,\n",
       " np.float64(159.05219064268366))"
      ]
     },
     "execution_count": 20,
     "metadata": {},
     "output_type": "execute_result"
    }
   ],
   "source": [
    "closest_infra_address('5 Av. Le Chatelier, Palaiseau', geodf)"
   ]
  },
  {
   "cell_type": "code",
   "execution_count": 21,
   "id": "d56db16f-7875-4edd-8adf-24b811fc628f",
   "metadata": {},
   "outputs": [],
   "source": [
    "def closest_infra_address_equiptype(address, equip_type, gdf):\n",
    "    gdf_filter = gdf[gdf['equip_type_name'] == equip_type]\n",
    "    gdf_filter = gdf_filter.copy()\n",
    "    return closest_infra_address(address, gdf_filter)"
   ]
  },
  {
   "cell_type": "code",
   "execution_count": 22,
   "id": "9b1d7d9c-a3b3-4ffa-895f-3050be7d97ca",
   "metadata": {},
   "outputs": [
    {
     "data": {
      "text/plain": [
       "(equip_nom                              COURTS DE TENNIS 4\n",
       " equip_service_date                                 1964.0\n",
       " equip_type_name                           Court de tennis\n",
       " coordonnees           {'lon': 2.196922, 'lat': 48.700712}\n",
       " equip_x                                          2.196922\n",
       " equip_y                                         48.700712\n",
       " geometry                       POINT (2.196922 48.700712)\n",
       " Name: 1654, dtype: object,\n",
       " np.float64(1400.1613311646356))"
      ]
     },
     "execution_count": 22,
     "metadata": {},
     "output_type": "execute_result"
    }
   ],
   "source": [
    "closest_infra_address_equiptype('5 Av. Le Chatelier, Palaiseau', 'Court de tennis', geodf)"
   ]
  },
  {
   "cell_type": "code",
   "execution_count": null,
   "id": "20880eaa-fd35-4a9d-91df-add81a0e6b7f",
   "metadata": {},
   "outputs": [],
   "source": []
  }
 ],
 "metadata": {
  "kernelspec": {
   "display_name": "Python 3 (ipykernel)",
   "language": "python",
   "name": "python3"
  },
  "language_info": {
   "codemirror_mode": {
    "name": "ipython",
    "version": 3
   },
   "file_extension": ".py",
   "mimetype": "text/x-python",
   "name": "python",
   "nbconvert_exporter": "python",
   "pygments_lexer": "ipython3",
   "version": "3.12.7"
  }
 },
 "nbformat": 4,
 "nbformat_minor": 5
}
