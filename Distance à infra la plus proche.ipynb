{
 "cells": [
  {
   "cell_type": "code",
   "execution_count": 1,
   "metadata": {},
   "outputs": [
    {
     "name": "stdout",
     "output_type": "stream",
     "text": [
      "Collecting geopy\n",
      "  Downloading geopy-2.4.1-py3-none-any.whl.metadata (6.8 kB)\n",
      "Collecting geographiclib<3,>=1.52 (from geopy)\n",
      "  Downloading geographiclib-2.0-py3-none-any.whl.metadata (1.4 kB)\n",
      "Downloading geopy-2.4.1-py3-none-any.whl (125 kB)\n",
      "Downloading geographiclib-2.0-py3-none-any.whl (40 kB)\n",
      "Installing collected packages: geographiclib, geopy\n",
      "Successfully installed geographiclib-2.0 geopy-2.4.1\n",
      "Note: you may need to restart the kernel to use updated packages.\n"
     ]
    }
   ],
   "source": [
    "pip install geopy"
   ]
  },
  {
   "cell_type": "code",
   "execution_count": 2,
   "metadata": {},
   "outputs": [],
   "source": [
    "#Mise en place de la dataframe GeoPandas\n",
    "import math\n",
    "import random\n",
    "import time\n",
    "import pandas as pd\n",
    "import geopandas as gpd\n",
    "from shapely.geometry import Point\n",
    "import matplotlib.pyplot as plt\n",
    "import requests\n",
    "import io\n",
    "from geopy.geocoders import Nominatim"
   ]
  },
  {
   "cell_type": "code",
   "execution_count": 3,
   "metadata": {},
   "outputs": [],
   "source": [
    "json_url = \"https://equipements.sports.gouv.fr/api/explore/v2.1/catalog/datasets/data-es/exports/json?lang=fr&timezone=Europe%2FParis&select=equip_nom%2C%20reg_nom%2C%20equip_service_date%2C%20dep_nom%2C%20equip_type_name%2C%20coordonnees%2C%20equip_x%2C%20equip_y\"\n",
    "req = requests.get(json_url)\n",
    "json_data = req.json()\n",
    "df_dirty = pd.DataFrame(json_data)\n",
    "df_dirty['equip_service_date'] = pd.to_numeric(df_dirty['equip_service_date'], errors='coerce')\n",
    "df = df_dirty.dropna(subset=['equip_service_date'])\n",
    "\n",
    "# Les coordonnées sont au format WGS84 d'après la documentation. On définit donc le CRS en adéquation.\n",
    "geodf = gpd.GeoDataFrame(df, geometry=gpd.points_from_xy(df['equip_x'], df['equip_y']), crs=\"EPSG:4326\")  "
   ]
  },
  {
   "cell_type": "code",
   "execution_count": 4,
   "metadata": {},
   "outputs": [
    {
     "data": {
      "text/html": [
       "<div>\n",
       "<style scoped>\n",
       "    .dataframe tbody tr th:only-of-type {\n",
       "        vertical-align: middle;\n",
       "    }\n",
       "\n",
       "    .dataframe tbody tr th {\n",
       "        vertical-align: top;\n",
       "    }\n",
       "\n",
       "    .dataframe thead th {\n",
       "        text-align: right;\n",
       "    }\n",
       "</style>\n",
       "<table border=\"1\" class=\"dataframe\">\n",
       "  <thead>\n",
       "    <tr style=\"text-align: right;\">\n",
       "      <th></th>\n",
       "      <th>equip_nom</th>\n",
       "      <th>reg_nom</th>\n",
       "      <th>equip_service_date</th>\n",
       "      <th>dep_nom</th>\n",
       "      <th>equip_type_name</th>\n",
       "      <th>coordonnees</th>\n",
       "      <th>equip_x</th>\n",
       "      <th>equip_y</th>\n",
       "      <th>geometry</th>\n",
       "    </tr>\n",
       "  </thead>\n",
       "  <tbody>\n",
       "    <tr>\n",
       "      <th>3</th>\n",
       "      <td>STAND DE TIR</td>\n",
       "      <td>Provence-Alpes-Côte d'Azur</td>\n",
       "      <td>1986.0</td>\n",
       "      <td>Bouches-du-Rhône</td>\n",
       "      <td>Pas de tir à la cible</td>\n",
       "      <td>{'lon': 5.58084, 'lat': 43.3852}</td>\n",
       "      <td>5.580840</td>\n",
       "      <td>43.385200</td>\n",
       "      <td>POINT (5.58084 43.3852)</td>\n",
       "    </tr>\n",
       "    <tr>\n",
       "      <th>5</th>\n",
       "      <td>TERRAIN DE BOULES 2</td>\n",
       "      <td>Provence-Alpes-Côte d'Azur</td>\n",
       "      <td>1994.0</td>\n",
       "      <td>Bouches-du-Rhône</td>\n",
       "      <td>Terrain de boules</td>\n",
       "      <td>{'lon': 5.5817, 'lat': 43.64302}</td>\n",
       "      <td>5.581700</td>\n",
       "      <td>43.643020</td>\n",
       "      <td>POINT (5.5817 43.64302)</td>\n",
       "    </tr>\n",
       "    <tr>\n",
       "      <th>6</th>\n",
       "      <td>AVEN DE JESUS CHRIST</td>\n",
       "      <td>Provence-Alpes-Côte d'Azur</td>\n",
       "      <td>1948.0</td>\n",
       "      <td>Bouches-du-Rhône</td>\n",
       "      <td>Site de spéléologie sportive et/ou éducative</td>\n",
       "      <td>{'lon': 5.4619, 'lat': 43.37887}</td>\n",
       "      <td>5.461900</td>\n",
       "      <td>43.378870</td>\n",
       "      <td>POINT (5.4619 43.37887)</td>\n",
       "    </tr>\n",
       "    <tr>\n",
       "      <th>7</th>\n",
       "      <td>MUR D'ESCALADE</td>\n",
       "      <td>Provence-Alpes-Côte d'Azur</td>\n",
       "      <td>2005.0</td>\n",
       "      <td>Bouches-du-Rhône</td>\n",
       "      <td>Structure Artificielle d'Escalade</td>\n",
       "      <td>{'lon': 5.46891, 'lat': 43.3533}</td>\n",
       "      <td>5.468910</td>\n",
       "      <td>43.353300</td>\n",
       "      <td>POINT (5.46891 43.3533)</td>\n",
       "    </tr>\n",
       "    <tr>\n",
       "      <th>8</th>\n",
       "      <td>SALLE DE DANSE</td>\n",
       "      <td>Provence-Alpes-Côte d'Azur</td>\n",
       "      <td>2004.0</td>\n",
       "      <td>Bouches-du-Rhône</td>\n",
       "      <td>Salle de danse</td>\n",
       "      <td>{'lon': 5.46891, 'lat': 43.3533}</td>\n",
       "      <td>5.468910</td>\n",
       "      <td>43.353300</td>\n",
       "      <td>POINT (5.46891 43.3533)</td>\n",
       "    </tr>\n",
       "    <tr>\n",
       "      <th>9</th>\n",
       "      <td>STADE DE FOOT</td>\n",
       "      <td>Provence-Alpes-Côte d'Azur</td>\n",
       "      <td>2012.0</td>\n",
       "      <td>Bouches-du-Rhône</td>\n",
       "      <td>Terrain de football</td>\n",
       "      <td>{'lon': 5.46757, 'lat': 43.35455}</td>\n",
       "      <td>5.467570</td>\n",
       "      <td>43.354550</td>\n",
       "      <td>POINT (5.46757 43.35455)</td>\n",
       "    </tr>\n",
       "    <tr>\n",
       "      <th>16</th>\n",
       "      <td>CENTRE EQUESTRE LA MARQUISANE</td>\n",
       "      <td>Provence-Alpes-Côte d'Azur</td>\n",
       "      <td>1998.0</td>\n",
       "      <td>Bouches-du-Rhône</td>\n",
       "      <td>Carrière</td>\n",
       "      <td>{'lon': 5.4709, 'lat': 43.35531}</td>\n",
       "      <td>5.470900</td>\n",
       "      <td>43.355310</td>\n",
       "      <td>POINT (5.4709 43.35531)</td>\n",
       "    </tr>\n",
       "    <tr>\n",
       "      <th>18</th>\n",
       "      <td>SALLE DE DANSE</td>\n",
       "      <td>Provence-Alpes-Côte d'Azur</td>\n",
       "      <td>2013.0</td>\n",
       "      <td>Bouches-du-Rhône</td>\n",
       "      <td>Salle de danse</td>\n",
       "      <td>{'lon': 5.00246, 'lat': 43.81332}</td>\n",
       "      <td>5.002460</td>\n",
       "      <td>43.813320</td>\n",
       "      <td>POINT (5.00246 43.81332)</td>\n",
       "    </tr>\n",
       "    <tr>\n",
       "      <th>19</th>\n",
       "      <td>SALLE DE MUSCULATION</td>\n",
       "      <td>Provence-Alpes-Côte d'Azur</td>\n",
       "      <td>2013.0</td>\n",
       "      <td>Bouches-du-Rhône</td>\n",
       "      <td>Salle d'haltérophilie</td>\n",
       "      <td>{'lon': 5.002458, 'lat': 43.813324}</td>\n",
       "      <td>5.002458</td>\n",
       "      <td>43.813324</td>\n",
       "      <td>POINT (5.00246 43.81332)</td>\n",
       "    </tr>\n",
       "    <tr>\n",
       "      <th>20</th>\n",
       "      <td>MUR D'ESCALADE</td>\n",
       "      <td>Provence-Alpes-Côte d'Azur</td>\n",
       "      <td>2013.0</td>\n",
       "      <td>Bouches-du-Rhône</td>\n",
       "      <td>Structure Artificielle d'Escalade</td>\n",
       "      <td>{'lon': 5.002458, 'lat': 43.813324}</td>\n",
       "      <td>5.002458</td>\n",
       "      <td>43.813324</td>\n",
       "      <td>POINT (5.00246 43.81332)</td>\n",
       "    </tr>\n",
       "  </tbody>\n",
       "</table>\n",
       "</div>"
      ],
      "text/plain": [
       "                        equip_nom                     reg_nom  \\\n",
       "3                    STAND DE TIR  Provence-Alpes-Côte d'Azur   \n",
       "5             TERRAIN DE BOULES 2  Provence-Alpes-Côte d'Azur   \n",
       "6            AVEN DE JESUS CHRIST  Provence-Alpes-Côte d'Azur   \n",
       "7                  MUR D'ESCALADE  Provence-Alpes-Côte d'Azur   \n",
       "8                  SALLE DE DANSE  Provence-Alpes-Côte d'Azur   \n",
       "9                   STADE DE FOOT  Provence-Alpes-Côte d'Azur   \n",
       "16  CENTRE EQUESTRE LA MARQUISANE  Provence-Alpes-Côte d'Azur   \n",
       "18                 SALLE DE DANSE  Provence-Alpes-Côte d'Azur   \n",
       "19           SALLE DE MUSCULATION  Provence-Alpes-Côte d'Azur   \n",
       "20                 MUR D'ESCALADE  Provence-Alpes-Côte d'Azur   \n",
       "\n",
       "    equip_service_date           dep_nom  \\\n",
       "3               1986.0  Bouches-du-Rhône   \n",
       "5               1994.0  Bouches-du-Rhône   \n",
       "6               1948.0  Bouches-du-Rhône   \n",
       "7               2005.0  Bouches-du-Rhône   \n",
       "8               2004.0  Bouches-du-Rhône   \n",
       "9               2012.0  Bouches-du-Rhône   \n",
       "16              1998.0  Bouches-du-Rhône   \n",
       "18              2013.0  Bouches-du-Rhône   \n",
       "19              2013.0  Bouches-du-Rhône   \n",
       "20              2013.0  Bouches-du-Rhône   \n",
       "\n",
       "                                 equip_type_name  \\\n",
       "3                          Pas de tir à la cible   \n",
       "5                              Terrain de boules   \n",
       "6   Site de spéléologie sportive et/ou éducative   \n",
       "7              Structure Artificielle d'Escalade   \n",
       "8                                 Salle de danse   \n",
       "9                            Terrain de football   \n",
       "16                                      Carrière   \n",
       "18                                Salle de danse   \n",
       "19                         Salle d'haltérophilie   \n",
       "20             Structure Artificielle d'Escalade   \n",
       "\n",
       "                            coordonnees   equip_x    equip_y  \\\n",
       "3      {'lon': 5.58084, 'lat': 43.3852}  5.580840  43.385200   \n",
       "5      {'lon': 5.5817, 'lat': 43.64302}  5.581700  43.643020   \n",
       "6      {'lon': 5.4619, 'lat': 43.37887}  5.461900  43.378870   \n",
       "7      {'lon': 5.46891, 'lat': 43.3533}  5.468910  43.353300   \n",
       "8      {'lon': 5.46891, 'lat': 43.3533}  5.468910  43.353300   \n",
       "9     {'lon': 5.46757, 'lat': 43.35455}  5.467570  43.354550   \n",
       "16     {'lon': 5.4709, 'lat': 43.35531}  5.470900  43.355310   \n",
       "18    {'lon': 5.00246, 'lat': 43.81332}  5.002460  43.813320   \n",
       "19  {'lon': 5.002458, 'lat': 43.813324}  5.002458  43.813324   \n",
       "20  {'lon': 5.002458, 'lat': 43.813324}  5.002458  43.813324   \n",
       "\n",
       "                    geometry  \n",
       "3    POINT (5.58084 43.3852)  \n",
       "5    POINT (5.5817 43.64302)  \n",
       "6    POINT (5.4619 43.37887)  \n",
       "7    POINT (5.46891 43.3533)  \n",
       "8    POINT (5.46891 43.3533)  \n",
       "9   POINT (5.46757 43.35455)  \n",
       "16   POINT (5.4709 43.35531)  \n",
       "18  POINT (5.00246 43.81332)  \n",
       "19  POINT (5.00246 43.81332)  \n",
       "20  POINT (5.00246 43.81332)  "
      ]
     },
     "execution_count": 4,
     "metadata": {},
     "output_type": "execute_result"
    }
   ],
   "source": [
    "#Test\n",
    "geodf.head(10)"
   ]
  },
  {
   "cell_type": "code",
   "execution_count": 5,
   "metadata": {},
   "outputs": [],
   "source": [
    "#Recherche de l'infrastructure la plus proche de (x,y) en exploitant les opérations vectorisées de Pandas :\n",
    "def closest_infra(x,y, gdf) :\n",
    "    point = Point(x,y) # Coord. en format WGS84\n",
    "    gdf_proj = gdf.to_crs(epsg=3857) \n",
    "    point_proj = gpd.GeoSeries([point], crs=\"EPSG:4326\").to_crs(epsg=3857)[0] # Reprojeter les coordonnées (format WGS84) en système métrique pour augmenter la précision\n",
    "    gdf_proj['distance'] = gdf_proj.geometry.distance(point_proj) # Calcul des distances entre notre point et toutes les infrastructures, grâce à GeoPandas\n",
    "    closest_id = gdf_proj['distance'].idxmin() # Retourner l'indice du minimul avec idxmin\n",
    "    dist = gdf_proj.loc[closest_id, 'distance']\n",
    "    return gdf.loc[closest_id], dist"
   ]
  },
  {
   "cell_type": "code",
   "execution_count": 6,
   "metadata": {},
   "outputs": [
    {
     "data": {
      "text/plain": [
       "(equip_nom                                        MANEGE\n",
       " reg_nom                                   Île-de-France\n",
       " equip_service_date                               1976.0\n",
       " dep_nom                                         Essonne\n",
       " equip_type_name                                  Manège\n",
       " coordonnees           {'lon': 2.20645, 'lat': 48.70994}\n",
       " equip_x                                         2.20645\n",
       " equip_y                                        48.70994\n",
       " geometry                       POINT (2.20645 48.70994)\n",
       " Name: 235696, dtype: object,\n",
       " np.float64(201.25366060421027))"
      ]
     },
     "execution_count": 6,
     "metadata": {},
     "output_type": "execute_result"
    }
   ],
   "source": [
    "closest_infra(2.207237, 48.711014, geodf) # Coordonnées approximatives de l'ENSAE. On retrouve l'écurie de l'X, juste en face :)"
   ]
  },
  {
   "cell_type": "code",
   "execution_count": 7,
   "metadata": {},
   "outputs": [
    {
     "data": {
      "text/plain": [
       "(equip_nom                                BASE NAUTIQUE\n",
       " reg_nom                             Nouvelle-Aquitaine\n",
       " equip_service_date                              1989.0\n",
       " dep_nom                                   Haute-Vienne\n",
       " equip_type_name                  Stade de ski nautique\n",
       " coordonnees           {'lon': 1.42864, 'lat': 45.5458}\n",
       " equip_x                                        1.42864\n",
       " equip_y                                        45.5458\n",
       " geometry                       POINT (1.42864 45.5458)\n",
       " Name: 265918, dtype: object,\n",
       " np.float64(749.0279346331382))"
      ]
     },
     "execution_count": 7,
     "metadata": {},
     "output_type": "execute_result"
    }
   ],
   "source": [
    "closest_infra(1.422434324, 45.54397854, geodf) # Point généré aléatoirement, près de Limoges"
   ]
  },
  {
   "cell_type": "code",
   "execution_count": 8,
   "metadata": {},
   "outputs": [],
   "source": [
    "def closest_infra_address(address, gdf):\n",
    "    geolocator = Nominatim(user_agent=\"projet_python_infra_sport\") #Géocodage de l'adresse\n",
    "    location = geolocator.geocode(address)\n",
    "    #\n",
    "    if location is None:\n",
    "        return(\"Adresse introuvable\")\n",
    "    #\n",
    "    input_point = Point(location.longitude, location.latitude) #Récupération des coordonnées géographiques\n",
    "    input_gdf = gpd.GeoDataFrame(geometry=[input_point], crs=\"EPSG:4326\")\n",
    "    #\n",
    "    gdf_proj = gdf.to_crs(\"EPSG:2154\") # Projection de gdf en système métrique, base temporaire (pour obtenir la distance en mètres)\n",
    "    input_gdf_proj = input_gdf.to_crs(\"EPSG:2154\") # Projection des coordonnées géographiques en système métrique\n",
    "    input_point_proj = input_gdf_proj.geometry.iloc[0] # Extraction du point reprojeté en système métrique\n",
    "    #\n",
    "    gdf_proj['distance'] = gdf_proj.geometry.distance(input_point_proj) # Calcul des distances en système métrique\n",
    "    closest_id = gdf_proj['distance'].idxmin() # Retourner l'indice du minimul avec idxmin\n",
    "    closest = gdf.loc[closest_id] # Obtenir l'infrastructure la plus proche dans la base principale\n",
    "    dist = gdf_proj.loc[closest_id, 'distance'] # Obtenir la distance\n",
    "    return closest, dist, \"Distance en m : {}\".format(dist)"
   ]
  },
  {
   "cell_type": "code",
   "execution_count": 9,
   "metadata": {},
   "outputs": [
    {
     "data": {
      "text/plain": [
       "(equip_nom                                        MANEGE\n",
       " reg_nom                                   Île-de-France\n",
       " equip_service_date                               1976.0\n",
       " dep_nom                                         Essonne\n",
       " equip_type_name                                  Manège\n",
       " coordonnees           {'lon': 2.20645, 'lat': 48.70994}\n",
       " equip_x                                         2.20645\n",
       " equip_y                                        48.70994\n",
       " geometry                       POINT (2.20645 48.70994)\n",
       " Name: 235696, dtype: object,\n",
       " np.float64(159.05219064268366),\n",
       " 'Distance en m : 159.05219064268366')"
      ]
     },
     "execution_count": 9,
     "metadata": {},
     "output_type": "execute_result"
    }
   ],
   "source": [
    "closest_infra_address('5 Av. Le Chatelier, Palaiseau', geodf) # Infrastructure la plus proche de l'ENSAE (écurie de l'X !)"
   ]
  },
  {
   "cell_type": "code",
   "execution_count": 10,
   "metadata": {},
   "outputs": [],
   "source": [
    "# NB : essayez de copier les coordonnées sur Google Maps en les intervertissant (Google Maps lit les coordonnées sous le format (lat, lon) et non (lon, lat))"
   ]
  },
  {
   "cell_type": "code",
   "execution_count": 11,
   "metadata": {},
   "outputs": [],
   "source": [
    "def closest_infra_address_equiptype(address, equip_type, gdf):\n",
    "    gdf_filter = gdf[gdf['equip_type_name'] == equip_type]\n",
    "    gdf_filter = gdf_filter.copy()\n",
    "    return closest_infra_address(address, gdf_filter)"
   ]
  },
  {
   "cell_type": "code",
   "execution_count": 12,
   "metadata": {},
   "outputs": [
    {
     "data": {
      "text/plain": [
       "(equip_nom                              COURTS DE TENNIS 4\n",
       " reg_nom                                     Île-de-France\n",
       " equip_service_date                                 1964.0\n",
       " dep_nom                                           Essonne\n",
       " equip_type_name                           Court de tennis\n",
       " coordonnees           {'lon': 2.196922, 'lat': 48.700712}\n",
       " equip_x                                          2.196922\n",
       " equip_y                                         48.700712\n",
       " geometry                       POINT (2.196922 48.700712)\n",
       " Name: 235651, dtype: object,\n",
       " np.float64(1400.1613311646356),\n",
       " 'Distance en m : 1400.1613311646356')"
      ]
     },
     "execution_count": 12,
     "metadata": {},
     "output_type": "execute_result"
    }
   ],
   "source": [
    "closest_infra_address_equiptype('5 Av. Le Chatelier, Palaiseau', 'Court de tennis', geodf) "
   ]
  },
  {
   "cell_type": "code",
   "execution_count": 13,
   "metadata": {},
   "outputs": [],
   "source": [
    "def generate_random_coord() :\n",
    "    lat_min, lat_max = 43.0, 50.0 # Limites de latitude de la France métropolitaine\n",
    "    lon_min, lon_max = -1.0, 7.0 # Limites de longitude de la France métropolitaine\n",
    "    random_lat = random.uniform(lat_min, lat_max)\n",
    "    random_lon = random.uniform(lon_min, lon_max) # Génération de coordonnées aléatoires \n",
    "    return random_lon, random_lat"
   ]
  },
  {
   "cell_type": "code",
   "execution_count": 14,
   "metadata": {},
   "outputs": [],
   "source": [
    "def generate_random_address():\n",
    "    lat_min, lat_max = 41.0, 51.0 # Limites de latitude de la France métropolitaine (grossièrement définies, approximées par un rectangle)\n",
    "    lon_min, lon_max = -5.0, 9.0 # Limites de longitude de la France métropolitaine (grossièrement définies, approximées par un rectangle)\n",
    "    random_lat = random.uniform(lat_min, lat_max)\n",
    "    random_lon = random.uniform(lon_min, lon_max) # Génération de coordonnées aléatoires \n",
    "    geolocator = Nominatim(user_agent=\"projet_python_infra_sport_adress\")\n",
    "    location = geolocator.reverse((random_lat, random_lon), exactly_one=True) # Transformation des coordonnées en adresse postale\n",
    "    if location and location.address: # Vérification de l'existence de l'adresse\n",
    "        return location.address\n",
    "    else:\n",
    "        return \"Adresse introuvable\""
   ]
  },
  {
   "cell_type": "code",
   "execution_count": 15,
   "metadata": {},
   "outputs": [],
   "source": [
    "def mean_dist(n, gdf) :\n",
    "    somme = 0\n",
    "    for _ in range(n) :\n",
    "        x,y = generate_random_coord()\n",
    "        if isinstance(closest_infra(x,y, gdf)[1], float): # Permet de s'assurer que la distance est bien un float\n",
    "            somme+=closest_infra(x,y, gdf)[1]\n",
    "    return somme/n"
   ]
  },
  {
   "cell_type": "code",
   "execution_count": 16,
   "metadata": {},
   "outputs": [
    {
     "data": {
      "text/plain": [
       "(np.float64(4286.256196170753), 40.529632568359375)"
      ]
     },
     "execution_count": 16,
     "metadata": {},
     "output_type": "execute_result"
    }
   ],
   "source": [
    "start = time.time()\n",
    "m = mean_dist(100, geodf)\n",
    "end = time.time()\n",
    "m, end - start # Temps estimé pour n = 1000 : 541 secondes, soit 9min"
   ]
  },
  {
   "cell_type": "code",
   "execution_count": 18,
   "metadata": {},
   "outputs": [
    {
     "name": "stdout",
     "output_type": "stream",
     "text": [
      "(equip_nom                           TERRAIN DE FOOTBALL\n",
      "reg_nom                              Nouvelle-Aquitaine\n",
      "equip_service_date                               1965.0\n",
      "dep_nom                                    Haute-Vienne\n",
      "equip_type_name                     Terrain de football\n",
      "coordonnees           {'lon': 0.851927, 'lat': 45.7007}\n",
      "equip_x                                        0.851927\n",
      "equip_y                                         45.7007\n",
      "geometry                       POINT (0.851927 45.7007)\n",
      "Name: 270004, dtype: object, np.float64(1220.6858198897128), 'Distance en m : 1220.6858198897128')\n",
      "(equip_nom                                             Salle polyvalente\n",
      "reg_nom                                                       Normandie\n",
      "equip_service_date                                               1991.0\n",
      "dep_nom                                                  Seine-Maritime\n",
      "equip_type_name       Salles polyvalentes / des fêtes / non spéciali...\n",
      "coordonnees                           {'lon': 0.89478, 'lat': 49.61506}\n",
      "equip_x                                                         0.89478\n",
      "equip_y                                                        49.61506\n",
      "geometry                                       POINT (0.89478 49.61506)\n",
      "Name: 210490, dtype: object, np.float64(181.8002372015528), 'Distance en m : 181.8002372015528')\n",
      "(equip_nom                                     CRAN AUX OEUFS\n",
      "reg_nom                                      Hauts-de-France\n",
      "equip_service_date                                    2005.0\n",
      "dep_nom                                        Pas-de-Calais\n",
      "equip_type_name        Aire mixte (décollage et atterissage)\n",
      "coordonnees           {'lon': 1.58327795, 'lat': 50.8471649}\n",
      "equip_x                                             1.583278\n",
      "equip_y                                            50.847165\n",
      "geometry                       POINT (1.58327795 50.8471649)\n",
      "Name: 296484, dtype: object, np.float64(272692.5366783215), 'Distance en m : 272692.5366783215')\n"
     ]
    }
   ],
   "source": [
    "for _ in range(3) :\n",
    "    print(closest_infra_address(generate_random_address(), geodf))\n",
    "    time.sleep(1)"
   ]
  }
 ],
 "metadata": {
  "kernelspec": {
   "display_name": "base",
   "language": "python",
   "name": "python3"
  },
  "language_info": {
   "codemirror_mode": {
    "name": "ipython",
    "version": 3
   },
   "file_extension": ".py",
   "mimetype": "text/x-python",
   "name": "python",
   "nbconvert_exporter": "python",
   "pygments_lexer": "ipython3",
   "version": "3.12.7"
  }
 },
 "nbformat": 4,
 "nbformat_minor": 2
}
