{
 "cells": [
  {
   "cell_type": "markdown",
   "metadata": {},
   "source": [
    "# Projet Python pour la data science 2024 - 2025\n",
    "*HADDOUCHE Théo, GOURVENNEC Jules, MATHÉ Cyprien, BROCHET Lison*\n",
    "\n",
    "# Introduction\n",
    "Depuis les Jeux Olympiques de Paris 2024, un certain nombre de jeunes se sont pris de passion pour le tennis de table et la natation. Cependant, cet engouement s’est heurté au manque d’infrastructure, à leur vétusté et au manque d’encadrant. Cela a de nouveau mis en lumière ce que nous avons appelé les « déserts sportifs ». A l’instar des « déserts médicaux », les « déserts sportifs » sont des zones géographiques souvent rurales, où les infrastructures sportives et les encadrants manquent et où infrastructures existantes sont pour la plupart vétustes et mal équipées. Cela qui constitue un obstacle à la pratique sportive des habitants de ces zones.\n",
    "\n",
    "Pourtant, il semble exister un consensus sur les bienfaits d’une pratique sportive régulière, en cela qu’elle permet de prévenir un grand nombre de maladies notamment cardiovasculaires ; mais aussi en tant que facteur d’intégration sociale. Aussi, nous avons souhaité questionner cette notion de « désert sportif » sur la base du recensement des équipements sportifs en France. Pour cela, il nous a semblé pertinent d’analyser plusieurs variables telles que la vétusté des infrastructures étudiées, l’offre de sport selon les territoires, l’accessibilité aux infrastructures via des transports en commun.\n",
    "\n",
    "Notre projet a donc pour objectif de répondre à la problématique suivante : A quel point la situation géographique d’un individu est-elle déterminante dans sa capacité à poursuivre une activité sportive régulière ?\n"
   ]
  },
  {
   "cell_type": "markdown",
   "metadata": {},
   "source": [
    "# I/ Récupération et traitement des données"
   ]
  },
  {
   "cell_type": "markdown",
   "metadata": {},
   "source": [
    "## A. Récupération des données : prise en main de l'API"
   ]
  },
  {
   "cell_type": "markdown",
   "metadata": {},
   "source": [
    "Les données de la base de données Data ES que nous allons utiliser sont accessibles par une API qui nous permet de n'accéder qu'à quelques valeurs choisies en évitant de tout télécharger chaque fois. Deux modes d'accès sont permis, l'un limite à 100 éléments livrant directement un dataframe, un autre sans limite donne le lien de téléchargement d'un .csv. Le lien se construit dans l'interface du site avec une syntaxe proche du SQL accessible ici : https://equipements.sports.gouv.fr/explore/dataset/data-es/api/?q.\n",
    "\n",
    "Les fonctions qui permettent d'obtenir les dataframes par ces deux méthodes sont importées et visibles depuis fonctions.py."
   ]
  },
  {
   "cell_type": "code",
   "execution_count": 21,
   "metadata": {},
   "outputs": [
    {
     "name": "stdout",
     "output_type": "stream",
     "text": [
      "dict_keys(['results'])\n"
     ]
    },
    {
     "data": {
      "text/html": [
       "<div>\n",
       "<style scoped>\n",
       "    .dataframe tbody tr th:only-of-type {\n",
       "        vertical-align: middle;\n",
       "    }\n",
       "\n",
       "    .dataframe tbody tr th {\n",
       "        vertical-align: top;\n",
       "    }\n",
       "\n",
       "    .dataframe thead th {\n",
       "        text-align: right;\n",
       "    }\n",
       "</style>\n",
       "<table border=\"1\" class=\"dataframe\">\n",
       "  <thead>\n",
       "    <tr style=\"text-align: right;\">\n",
       "      <th></th>\n",
       "      <th>dep_nom</th>\n",
       "      <th>nb_infra</th>\n",
       "    </tr>\n",
       "  </thead>\n",
       "  <tbody>\n",
       "    <tr>\n",
       "      <th>0</th>\n",
       "      <td>None</td>\n",
       "      <td>3</td>\n",
       "    </tr>\n",
       "    <tr>\n",
       "      <th>1</th>\n",
       "      <td>Ain</td>\n",
       "      <td>4118</td>\n",
       "    </tr>\n",
       "    <tr>\n",
       "      <th>2</th>\n",
       "      <td>Aisne</td>\n",
       "      <td>3691</td>\n",
       "    </tr>\n",
       "  </tbody>\n",
       "</table>\n",
       "</div>"
      ],
      "text/plain": [
       "  dep_nom  nb_infra\n",
       "0    None         3\n",
       "1     Ain      4118\n",
       "2   Aisne      3691"
      ]
     },
     "execution_count": 21,
     "metadata": {},
     "output_type": "execute_result"
    }
   ],
   "source": [
    "import pandas as pd\n",
    "from fonctions import *\n",
    "\n",
    "#Un exemple de lien pour obtenir le nombre d'infrastructures par département à l'aide de la méthode group_by et renommé sous la varibale nb_infra\n",
    "api_url = \"https://equipements.sports.gouv.fr/api/explore/v2.1/catalog/datasets/data-es/records?select=COUNT(inst_numero)%20as%20nb_infra&group_by=dep_nom&order_by=dep_code&limit=-1\"\n",
    "tab = call_api(api_url)\n",
    "tab.head(3)"
   ]
  },
  {
   "cell_type": "markdown",
   "metadata": {},
   "source": [
    "## B. Nettoyage des données"
   ]
  },
  {
   "cell_type": "markdown",
   "metadata": {},
   "source": [
    "Nos données proviennent d'une API. Pour ce qui est du nettoyage, nous avons remarqué que de nombreux doublons apparaissaient initialement dans la base de données utilisée. Cela s'explique par le fait que plusieurs activités sportives sont proposées au sein d'un même endroit. Par exemple, il est fréquent d'avoir deux lignes pour une piscine comptant deux bassins. Pour remédier à ce problème, nous n'avons gardé qu'une ligne pour chaque lieu puis nous avons créé une nouvelle variable nous permettant de compter le nombre de lignes qu'il y avait avant. \n",
    "Autrement, les données étaient plutôt propres toutefois, nous pouvons noter un nombre important de cases n'ayant pas été renseignées.  "
   ]
  },
  {
   "cell_type": "markdown",
   "metadata": {},
   "source": [
    "Sur le site data.gouv une page est dédiée à cette base, qui contient un url permettant de télécharger la base au format csv, donc nous utilisons directement cet url pour obtenir les données ici. Les lignes qui suivent correspondent à cette opération ainsi qu'à la sélection de nos variables d'intérêt."
   ]
  },
  {
   "cell_type": "markdown",
   "metadata": {},
   "source": [
    "Nous allons donc procéder au traitement sur le jeu réduit de paramètres (31/117 disponibles):\n",
    "\n",
    "inst_numero, inst_nom, dep_nom, dep_code_filled, new_code, new_name, inst_etat, \n",
    "inst_date_creation, inst_date_etat, inst_date_valid, inst_acc_handi_bool, \n",
    "inst_trans_bool, equip_numero, equip_nom, equip_type_code, \n",
    "equip_type_name, equip_type_famille, equip_x, equip_y, \n",
    "equip_etat, equip_eclair, equip_douche, equip_sanit, \n",
    "equip_pmr_aire, equip_pmr_douche, equip_pmr_sanit, \n",
    "equip_travaux_date, equip_service_date, equip_travaux_type, \n",
    "equip_energie, equip_prop_type, dens_lib, zrr_simp\n"
   ]
  },
  {
   "cell_type": "code",
   "execution_count": 2,
   "metadata": {},
   "outputs": [
    {
     "name": "stderr",
     "output_type": "stream",
     "text": [
      "/tmp/ipykernel_169945/3045731416.py:5: DtypeWarning: Columns (4,6,57,69,103,105,107,108) have mixed types. Specify dtype option on import or set low_memory=False.\n",
      "  data = pd.read_csv(url, delimiter=';')\n"
     ]
    },
    {
     "name": "stdout",
     "output_type": "stream",
     "text": [
      "  inst_numero                         inst_nom                  dep_nom  \\\n",
      "0  I042090005  Complexe sportif Daniel Maffren  Alpes-de-Haute-Provence   \n",
      "1  I042090005  Complexe sportif Daniel Maffren  Alpes-de-Haute-Provence   \n",
      "2  I042090009               Poney club du Thor  Alpes-de-Haute-Provence   \n",
      "3  I042090010      Site d'escalade de La Baume  Alpes-de-Haute-Provence   \n",
      "4  I042090010      Site d'escalade de La Baume  Alpes-de-Haute-Provence   \n",
      "5  I042090010      Site d'escalade de La Baume  Alpes-de-Haute-Provence   \n",
      "6  I042090010      Site d'escalade de La Baume  Alpes-de-Haute-Provence   \n",
      "7  I042090010      Site d'escalade de La Baume  Alpes-de-Haute-Provence   \n",
      "8  I042090014               Piscine Municipale  Alpes-de-Haute-Provence   \n",
      "9  I042090015              Boulodrome Val Gele  Alpes-de-Haute-Provence   \n",
      "\n",
      "  new_code  new_name inst_etat inst_date_creation inst_date_etat  \\\n",
      "0     4209  Sisteron  Attribué         2005-09-22     2021-01-26   \n",
      "1     4209  Sisteron  Attribué         2005-09-22     2021-01-26   \n",
      "2     4209  Sisteron  Attribué         2005-12-18     2021-01-26   \n",
      "3     4209  Sisteron    Validé         2005-04-06     2021-05-21   \n",
      "4     4209  Sisteron    Validé         2005-04-06     2021-05-21   \n",
      "5     4209  Sisteron    Validé         2005-04-06     2021-05-21   \n",
      "6     4209  Sisteron    Validé         2005-04-06     2021-05-21   \n",
      "7     4209  Sisteron    Validé         2005-04-06     2021-05-21   \n",
      "8     4209  Sisteron  Attribué         2005-04-06     2021-01-26   \n",
      "9     4209  Sisteron  Attribué         2005-04-06     2021-01-26   \n",
      "\n",
      "  inst_date_valid inst_acc_handi_bool  ... equip_pmr_aire equip_pmr_douche  \\\n",
      "0      2016-06-27                True  ...          False            False   \n",
      "1      2016-06-27                True  ...          False            False   \n",
      "2      2016-06-27                True  ...           True              NaN   \n",
      "3      2021-05-21               False  ...          False              NaN   \n",
      "4      2021-05-21               False  ...          False              NaN   \n",
      "5      2021-05-21               False  ...          False              NaN   \n",
      "6      2021-05-21               False  ...          False              NaN   \n",
      "7      2021-05-21               False  ...          False              NaN   \n",
      "8      2016-06-27               False  ...          False            False   \n",
      "9      2016-06-27                True  ...           True              NaN   \n",
      "\n",
      "  equip_pmr_sanit  equip_travaux_date equip_service_date   equip_travaux_type  \\\n",
      "0           False                 NaN                NaN                  NaN   \n",
      "1           False                 NaN             1991.0                  NaN   \n",
      "2           False              2005.0             2002.0  [\"Vétusté normale\"]   \n",
      "3           False              2005.0                NaN  [\"Vétusté normale\"]   \n",
      "4             NaN              2005.0                NaN  [\"Vétusté normale\"]   \n",
      "5             NaN              2005.0                NaN  [\"Vétusté normale\"]   \n",
      "6           False              2005.0                NaN  [\"Vétusté normale\"]   \n",
      "7           False              2005.0                NaN  [\"Vétusté normale\"]   \n",
      "8           False                 NaN             1972.0  [\"Vétusté normale\"]   \n",
      "9           False                 NaN                NaN                  NaN   \n",
      "\n",
      "             equip_energie       equip_prop_type        dens_lib  \\\n",
      "0  [\"Electricité\", \"Fuel\"]               Commune  Petites villes   \n",
      "1  [\"Electricité\", \"Fuel\"]               Commune  Petites villes   \n",
      "2                      NaN  Privé non commercial  Petites villes   \n",
      "3                      NaN               Commune  Petites villes   \n",
      "4                      NaN               Commune  Petites villes   \n",
      "5                      NaN               Commune  Petites villes   \n",
      "6                      NaN               Commune  Petites villes   \n",
      "7                      NaN               Commune  Petites villes   \n",
      "8  [\"Electricité\", \"Fuel\"]               Commune  Petites villes   \n",
      "9                      NaN               Commune  Petites villes   \n",
      "\n",
      "             zrr_simp  \n",
      "0  C - Classée en ZRR  \n",
      "1  C - Classée en ZRR  \n",
      "2  C - Classée en ZRR  \n",
      "3  C - Classée en ZRR  \n",
      "4  C - Classée en ZRR  \n",
      "5  C - Classée en ZRR  \n",
      "6  C - Classée en ZRR  \n",
      "7  C - Classée en ZRR  \n",
      "8  C - Classée en ZRR  \n",
      "9  C - Classée en ZRR  \n",
      "\n",
      "[10 rows x 32 columns]\n"
     ]
    }
   ],
   "source": [
    "#Cette cellule prend environ 1m30 à être exécutée\n",
    "url = \"https://equipements.sports.gouv.fr/api/explore/v2.1/catalog/datasets/data-es/records?select=inst_numero%2C%20inst_nom%2C%20dep_nom%2C%20dep_code_filled%2C%20new_code%2C%20new_name%2C%20inst_etat%2C%20%20inst_date_creation%2C%20inst_date_etat%2C%20inst_date_valid%2C%20inst_acc_handi_bool%2C%20%20inst_trans_bool%2C%20equip_numero%2C%20equip_nom%2C%20equip_type_code%2C%20%20equip_type_name%2C%20equip_type_famille%2C%20equip_x%2C%20equip_y%2C%20%20equip_etat%2C%20equip_eclair%2C%20equip_douche%2C%20equip_sanit%2C%20%20equip_pmr_aire%2C%20equip_pmr_douche%2C%20equip_pmr_sanit%2C%20%20equip_travaux_date%2C%20equip_service_date%2C%20equip_travaux_type%2C%20%20equip_energie%2C%20equip_prop_type%2C%20dens_lib%2C%20zrr_simp&limit=-1\"\n",
    "\n",
    "recensement = call_csv(url)\n",
    "recensement.head(3)"
   ]
  },
  {
   "cell_type": "markdown",
   "metadata": {},
   "source": [
    "Nous remarquons dans le jeu de données, que les lignes ne correspondent pas forcément à un seul site, mais si le site possède plusieurs infrastructures, il est dupliqué autant de fois que nécessaires. Nous avons décidé de ne garder qu'une seule ligne par adresse postale, et de compter combien de fois cette même adresse apparaît dans le jeu de données."
   ]
  },
  {
   "cell_type": "code",
   "execution_count": 3,
   "metadata": {},
   "outputs": [
    {
     "name": "stdout",
     "output_type": "stream",
     "text": [
      "Doublons supprimés :  164548\n",
      "Fréquence de lignes supprimées : 0.4945064191950762\n"
     ]
    }
   ],
   "source": [
    "# Création d'une liste qui compte le nombre de doublons par couple (nom d'infrastructure, code de commune) censé représenter une infrastructure unique\n",
    "doublons = (recensement\n",
    "            .groupby(['inst_nom', 'new_code'])\n",
    "            .size()\n",
    "            .reset_index(name='n')\n",
    "            .query('n > 0'))\n",
    "\n",
    "#Suppression des précédents doublons en les remplaçant tous par la première occurence du couple dans le dataset\n",
    "distinct = recensement.drop_duplicates(subset=['inst_nom', 'new_code'], keep='first')\n",
    "print(\"Doublons supprimés : \", len(recensement)-len(distinct))\n",
    "print(\"Fréquence de lignes supprimées :\", (len(recensement)-len(distinct))/len(recensement))\n",
    "\n",
    "#Ajout du nombre d'occurence correspondant à chaque couple (nombre de doublons supprimés par infrastructure dans la liste)\n",
    "df_es = pd.merge(distinct, doublons, on=['inst_nom', 'new_code'], how='outer')"
   ]
  },
  {
   "cell_type": "markdown",
   "metadata": {},
   "source": [
    "Près de 50% des lignes du datasets ont été supprimées, le nettoyage était donc bien nécessaire."
   ]
  },
  {
   "cell_type": "markdown",
   "metadata": {},
   "source": [
    "## B. Création de nouvelles variables "
   ]
  },
  {
   "cell_type": "markdown",
   "metadata": {},
   "source": [
    "# II/ Analyse descriptive et représentation graphique"
   ]
  },
  {
   "cell_type": "markdown",
   "metadata": {},
   "source": [
    "## A. Description de la base de données utilisée"
   ]
  },
  {
   "cell_type": "markdown",
   "metadata": {},
   "source": [
    "Des petits histogrammes"
   ]
  },
  {
   "cell_type": "markdown",
   "metadata": {},
   "source": [
    "## B. Grandes tendances observées"
   ]
  },
  {
   "cell_type": "markdown",
   "metadata": {},
   "source": [
    "# III/ Modélisation"
   ]
  }
 ],
 "metadata": {
  "kernelspec": {
   "display_name": "Python 3",
   "language": "python",
   "name": "python3"
  },
  "language_info": {
   "codemirror_mode": {
    "name": "ipython",
    "version": 3
   },
   "file_extension": ".py",
   "mimetype": "text/x-python",
   "name": "python",
   "nbconvert_exporter": "python",
   "pygments_lexer": "ipython3",
   "version": "3.10.2"
  }
 },
 "nbformat": 4,
 "nbformat_minor": 2
}
