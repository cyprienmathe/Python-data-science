{
 "cells": [
  {
   "cell_type": "markdown",
   "metadata": {},
   "source": [
    "# Projet Python pour la data science 2024 - 2025\n",
    "*HADDOUCHE Théo, GOURVENNEC Jules, MATHÉ Cyprien, BROCHET Lison*\n",
    "\n",
    "# Introduction\n",
    "Depuis les Jeux Olympiques de Paris 2024, un certain nombre de jeunes se sont pris de passion pour le tennis de table et la natation. Cependant, cet engouement s’est heurté au manque d’infrastructure, à leur vétusté et au manque d’encadrant. Cela a de nouveau mis en lumière ce que nous avons appelé les « déserts sportifs ». A l’instar des « déserts médicaux », les « déserts sportifs » sont des zones géographiques souvent rurales, où les infrastructures sportives et les encadrants manquent et où infrastructures existantes sont pour la plupart vétustes et mal équipées. Cela qui constitue un obstacle à la pratique sportive des habitants de ces zones.\n",
    "\n",
    "Pourtant, il semble exister un consensus sur les bienfaits d’une pratique sportive régulière, en cela qu’elle permet de prévenir un grand nombre de maladies notamment cardiovasculaires ; mais aussi en tant que facteur d’intégration sociale. Aussi, nous avons souhaité questionner cette notion de « désert sportif » sur la base du recensement des équipements sportifs en France. Pour cela, il nous a semblé pertinent d’analyser plusieurs variables telles que la vétusté des infrastructures étudiées, l’offre de sport selon les territoires, l’accessibilité aux infrastructures via des transports en commun.\n",
    "\n",
    "Notre projet a donc pour objectif de répondre à la problématique suivante : A quel point la situation géographique d’un individu est-elle déterminante dans sa capacité à poursuivre une activité sportive régulière ?\n"
   ]
  },
  {
   "cell_type": "markdown",
   "metadata": {},
   "source": [
    "# I/ Récupération et traitement des données"
   ]
  },
  {
   "cell_type": "markdown",
   "metadata": {},
   "source": [
    "## A. Nettoyage des données"
   ]
  },
  {
   "cell_type": "markdown",
   "metadata": {},
   "source": [
    "Nos données proviennent d'une API. Pour ce qui est du nettoyage, nous avons remarqué que de nombreux doublons apparaissaient initialement dans la base de données utilisée. Cela s'explique par le fait que plusieurs activités sportives sont proposées au sein d'un même endroit. Par exemple, il est fréquent d'avoir deux lignes pour une piscine comptant deux bassins. Pour remédier à ce problème, nous n'avons gardé qu'une ligne pour chaque lieu puis nous avons créé une nouvelle variable nous permettant de compter le nombre de lignes qu'il y avait avant. \n",
    "Autrement, les données étaient plutôt propres toutefois, nous pouvons noter un nombre important de cases n'ayant pas été renseignées.  "
   ]
  },
  {
   "cell_type": "markdown",
   "metadata": {},
   "source": [
    "Les données sont à disposition sur le site data.gouv, ainsi elles sont dotées d'une licence ouverte. Le jeu contient environ 330 000 lignes, qui correspondent à des infrastructures sportives recensées sur le territoire national par le ministère chargé des sports, et il est mis à disposition de tous afin \"d’aider à une meilleure perception des inégali­tés ter­ri­to­ria­les dans leur répar­ti­tion\", ce à quoi nous allons essayer de contribuer.\n",
    "D'abord, nous chargeons le jeu de données à partir de l'url, qui fournit un fichier csv. Des 117 variables, nous n'en gardons que 30, qui seront utilisables pour nos analyses futures.\n",
    "Parmi les variables que nous avons sélectionné : ..."
   ]
  },
  {
   "cell_type": "code",
   "execution_count": 2,
   "metadata": {},
   "outputs": [
    {
     "name": "stderr",
     "output_type": "stream",
     "text": [
      "/tmp/ipykernel_169945/3045731416.py:5: DtypeWarning: Columns (4,6,57,69,103,105,107,108) have mixed types. Specify dtype option on import or set low_memory=False.\n",
      "  data = pd.read_csv(url, delimiter=';')\n"
     ]
    },
    {
     "name": "stdout",
     "output_type": "stream",
     "text": [
      "  inst_numero                         inst_nom                  dep_nom  \\\n",
      "0  I042090005  Complexe sportif Daniel Maffren  Alpes-de-Haute-Provence   \n",
      "1  I042090005  Complexe sportif Daniel Maffren  Alpes-de-Haute-Provence   \n",
      "2  I042090009               Poney club du Thor  Alpes-de-Haute-Provence   \n",
      "3  I042090010      Site d'escalade de La Baume  Alpes-de-Haute-Provence   \n",
      "4  I042090010      Site d'escalade de La Baume  Alpes-de-Haute-Provence   \n",
      "5  I042090010      Site d'escalade de La Baume  Alpes-de-Haute-Provence   \n",
      "6  I042090010      Site d'escalade de La Baume  Alpes-de-Haute-Provence   \n",
      "7  I042090010      Site d'escalade de La Baume  Alpes-de-Haute-Provence   \n",
      "8  I042090014               Piscine Municipale  Alpes-de-Haute-Provence   \n",
      "9  I042090015              Boulodrome Val Gele  Alpes-de-Haute-Provence   \n",
      "\n",
      "  new_code  new_name inst_etat inst_date_creation inst_date_etat  \\\n",
      "0     4209  Sisteron  Attribué         2005-09-22     2021-01-26   \n",
      "1     4209  Sisteron  Attribué         2005-09-22     2021-01-26   \n",
      "2     4209  Sisteron  Attribué         2005-12-18     2021-01-26   \n",
      "3     4209  Sisteron    Validé         2005-04-06     2021-05-21   \n",
      "4     4209  Sisteron    Validé         2005-04-06     2021-05-21   \n",
      "5     4209  Sisteron    Validé         2005-04-06     2021-05-21   \n",
      "6     4209  Sisteron    Validé         2005-04-06     2021-05-21   \n",
      "7     4209  Sisteron    Validé         2005-04-06     2021-05-21   \n",
      "8     4209  Sisteron  Attribué         2005-04-06     2021-01-26   \n",
      "9     4209  Sisteron  Attribué         2005-04-06     2021-01-26   \n",
      "\n",
      "  inst_date_valid inst_acc_handi_bool  ... equip_pmr_aire equip_pmr_douche  \\\n",
      "0      2016-06-27                True  ...          False            False   \n",
      "1      2016-06-27                True  ...          False            False   \n",
      "2      2016-06-27                True  ...           True              NaN   \n",
      "3      2021-05-21               False  ...          False              NaN   \n",
      "4      2021-05-21               False  ...          False              NaN   \n",
      "5      2021-05-21               False  ...          False              NaN   \n",
      "6      2021-05-21               False  ...          False              NaN   \n",
      "7      2021-05-21               False  ...          False              NaN   \n",
      "8      2016-06-27               False  ...          False            False   \n",
      "9      2016-06-27                True  ...           True              NaN   \n",
      "\n",
      "  equip_pmr_sanit  equip_travaux_date equip_service_date   equip_travaux_type  \\\n",
      "0           False                 NaN                NaN                  NaN   \n",
      "1           False                 NaN             1991.0                  NaN   \n",
      "2           False              2005.0             2002.0  [\"Vétusté normale\"]   \n",
      "3           False              2005.0                NaN  [\"Vétusté normale\"]   \n",
      "4             NaN              2005.0                NaN  [\"Vétusté normale\"]   \n",
      "5             NaN              2005.0                NaN  [\"Vétusté normale\"]   \n",
      "6           False              2005.0                NaN  [\"Vétusté normale\"]   \n",
      "7           False              2005.0                NaN  [\"Vétusté normale\"]   \n",
      "8           False                 NaN             1972.0  [\"Vétusté normale\"]   \n",
      "9           False                 NaN                NaN                  NaN   \n",
      "\n",
      "             equip_energie       equip_prop_type        dens_lib  \\\n",
      "0  [\"Electricité\", \"Fuel\"]               Commune  Petites villes   \n",
      "1  [\"Electricité\", \"Fuel\"]               Commune  Petites villes   \n",
      "2                      NaN  Privé non commercial  Petites villes   \n",
      "3                      NaN               Commune  Petites villes   \n",
      "4                      NaN               Commune  Petites villes   \n",
      "5                      NaN               Commune  Petites villes   \n",
      "6                      NaN               Commune  Petites villes   \n",
      "7                      NaN               Commune  Petites villes   \n",
      "8  [\"Electricité\", \"Fuel\"]               Commune  Petites villes   \n",
      "9                      NaN               Commune  Petites villes   \n",
      "\n",
      "             zrr_simp  \n",
      "0  C - Classée en ZRR  \n",
      "1  C - Classée en ZRR  \n",
      "2  C - Classée en ZRR  \n",
      "3  C - Classée en ZRR  \n",
      "4  C - Classée en ZRR  \n",
      "5  C - Classée en ZRR  \n",
      "6  C - Classée en ZRR  \n",
      "7  C - Classée en ZRR  \n",
      "8  C - Classée en ZRR  \n",
      "9  C - Classée en ZRR  \n",
      "\n",
      "[10 rows x 32 columns]\n"
     ]
    }
   ],
   "source": [
    "import pandas as pd\n",
    "\n",
    "url = \"https://www.data.gouv.fr/fr/datasets/r/ea4f5879-af40-4e3e-949d-812d6eeb5e02\"\n",
    "\n",
    "data = pd.read_csv(url, delimiter=';')\n",
    "\n",
    "recensement = data[['inst_numero', 'inst_nom', 'dep_nom', 'new_code', 'new_name', 'inst_etat', \n",
    "                    'inst_date_creation', 'inst_date_etat', 'inst_date_valid', 'inst_acc_handi_bool', \n",
    "                    'inst_trans_bool', 'equip_numero', 'equip_nom', 'equip_type_code', \n",
    "                    'equip_type_name', 'equip_type_famille', 'equip_x', 'equip_y', \n",
    "                    'equip_etat', 'equip_eclair', 'equip_douche', 'equip_sanit', \n",
    "                    'equip_pmr_aire', 'equip_pmr_douche', 'equip_pmr_sanit', \n",
    "                    'equip_travaux_date', 'equip_service_date', 'equip_travaux_type', \n",
    "                    'equip_energie', 'equip_prop_type', 'dens_lib', 'zrr_simp']]\n",
    "\n",
    "print(recensement.head(10))"
   ]
  },
  {
   "cell_type": "markdown",
   "metadata": {},
   "source": [
    "Nous remarquons dans le jeu de données, que les lignes ne correspondent pas forcément à un seul site, mais si le site possède plusieurs infrastructures, il est dupliqué autant de fois que nécessaires. Nous avons décidé de ne garder qu'une seule ligne par adresse postale, et de compter combien de fois cette même adresse apparaît dans le jeu de données."
   ]
  },
  {
   "cell_type": "code",
   "execution_count": 3,
   "metadata": {},
   "outputs": [],
   "source": [
    "doublons = (recensement\n",
    "            .groupby(['inst_nom', 'new_code'])\n",
    "            .size()\n",
    "            .reset_index(name='n')\n",
    "            .query('n > 0'))\n",
    "distinct = recensement.drop_duplicates(subset=['inst_nom', 'new_code'], keep='first')\n",
    "df_epure = pd.merge(distinct, doublons, on=['inst_nom', 'new_code'], how='outer')"
   ]
  },
  {
   "cell_type": "markdown",
   "metadata": {},
   "source": [
    "## B. Création de nouvelles variables "
   ]
  },
  {
   "cell_type": "markdown",
   "metadata": {},
   "source": [
    "# II/ Analyse descriptive et représentation graphique"
   ]
  },
  {
   "cell_type": "markdown",
   "metadata": {},
   "source": [
    "## A. Description de la base de données utilisée"
   ]
  },
  {
   "cell_type": "markdown",
   "metadata": {},
   "source": [
    "## B. Grandes tendances observées"
   ]
  },
  {
   "cell_type": "markdown",
   "metadata": {},
   "source": [
    "# III/ Modélisation"
   ]
  }
 ],
 "metadata": {
  "kernelspec": {
   "display_name": "base",
   "language": "python",
   "name": "python3"
  },
  "language_info": {
   "codemirror_mode": {
    "name": "ipython",
    "version": 3
   },
   "file_extension": ".py",
   "mimetype": "text/x-python",
   "name": "python",
   "nbconvert_exporter": "python",
   "pygments_lexer": "ipython3",
   "version": "3.12.7"
  }
 },
 "nbformat": 4,
 "nbformat_minor": 2
}
