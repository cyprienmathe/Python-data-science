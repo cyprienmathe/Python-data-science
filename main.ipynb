{
 "cells": [
  {
   "cell_type": "markdown",
   "metadata": {},
   "source": [
    "# Projet Python pour la data science 2024 - 2025\n",
    "*HADDOUCHE Théo, GOURVENNEC Jules, MATHÉ Cyprien, BROCHET Lison*\n",
    "\n",
    "# Introduction\n",
    "Depuis les Jeux Olympiques de Paris 2024, un certain nombre de jeunes se sont pris de passion pour le tennis de table et la natation. Cependant, cet engouement s’est heurté au manque d’infrastructure, à leur vétusté et au manque d’encadrant. Cela a de nouveau mis en lumière ce que nous avons appelé les « déserts sportifs ». A l’instar des « déserts médicaux », les « déserts sportifs » sont des zones géographiques souvent rurales, où les infrastructures sportives et les encadrants manquent et où infrastructures existantes sont pour la plupart vétustes et mal équipées. Cela qui constitue un obstacle à la pratique sportive des habitants de ces zones.\n",
    "\n",
    "Pourtant, il semble exister un consensus sur les bienfaits d’une pratique sportive régulière, en cela qu’elle permet de prévenir un grand nombre de maladies notamment cardiovasculaires ; mais aussi en tant que facteur d’intégration sociale. Aussi, nous avons souhaité questionner cette notion de « désert sportif » sur la base du recensement des équipements sportifs en France. Pour cela, il nous a semblé pertinent d’analyser plusieurs variables telles que la vétusté des infrastructures étudiées, l’offre de sport selon les territoires, l’accessibilité aux infrastructures via des transports en commun.\n",
    "\n",
    "Notre projet a donc pour objectif de répondre à la problématique suivante : A quel point la situation géographique d’un individu est-elle déterminante dans sa capacité à poursuivre une activité sportive régulière ?\n"
   ]
  },
  {
   "cell_type": "markdown",
   "metadata": {},
   "source": [
    "# I/ Récupération et traitement des données"
   ]
  },
  {
   "cell_type": "markdown",
   "metadata": {},
   "source": [
    "## A. Nettoyage des données"
   ]
  },
  {
   "cell_type": "markdown",
   "metadata": {},
   "source": [
    "La base de données que nous allons utiliser pour notre projet est un recensement exhaustif des infrastructures sportives sur le territoire français. Elle est gérée par le ministère en charge des sports et mise à jour de façon régulière. L’objectif affichée de la base, tel qu’on peut le voir sur la page internet, est *\"d’aider à une meilleure perception des inégalités territoriales dans leur répartition\"*. Ainsi, le jeu de données est assez propre, ce qui limite notre temps alloué aux nettoyages des données, mais d'autres questionnements par rapport à la construction de nouvelles variables ou à d'autres choix méthodologiques ont plus retenu notre attention."
   ]
  },
  {
   "cell_type": "markdown",
   "metadata": {},
   "source": [
    "Sur le site data.gouv une page est dédiée à cette base, qui contient un url permettant de télécharger la base au format csv, donc nous utilisons directement cet url pour obtenir les données ici. Les lignes qui suivent correspondent à cette opération ainsi qu'à la sélection de nos variables d'intérêt."
   ]
  },
  {
   "cell_type": "code",
   "execution_count": 1,
   "metadata": {},
   "outputs": [
    {
     "name": "stderr",
     "output_type": "stream",
     "text": [
      "/tmp/ipykernel_39714/3045731416.py:5: DtypeWarning: Columns (4,6,57,69,103,105,107,108) have mixed types. Specify dtype option on import or set low_memory=False.\n",
      "  data = pd.read_csv(url, delimiter=';')\n"
     ]
    },
    {
     "name": "stdout",
     "output_type": "stream",
     "text": [
      "  inst_numero                        inst_nom           dep_nom new_code  \\\n",
      "0  I132080056             STADE ALEX CAUJOLLE  Bouches-du-Rhône    13208   \n",
      "1  I132080057                   LYCEE MISTRAL  Bouches-du-Rhône    13208   \n",
      "2  I132080058     COMPLEXE SPORTIF JEAN BOUIN  Bouches-du-Rhône    13208   \n",
      "3  I132080058     COMPLEXE SPORTIF JEAN BOUIN  Bouches-du-Rhône    13208   \n",
      "4  I132080059                     TENNIS SMUC  Bouches-du-Rhône    13208   \n",
      "5  I132080059                     TENNIS SMUC  Bouches-du-Rhône    13208   \n",
      "6  I132080065  SITE D'ESCALADE DE LA CANDELLE  Bouches-du-Rhône    13208   \n",
      "7  I132080068                       SETSQUASH  Bouches-du-Rhône    13208   \n",
      "8  I132080068                       SETSQUASH  Bouches-du-Rhône    13208   \n",
      "9  I132080070        POSTE DE LA POINTE ROUGE  Bouches-du-Rhône    13208   \n",
      "\n",
      "                      new_name inst_etat inst_date_creation inst_date_etat  \\\n",
      "0  Marseille 8e Arrondissement    Validé         2005-08-28     2012-09-16   \n",
      "1  Marseille 8e Arrondissement    Validé         2005-08-28     2024-04-23   \n",
      "2  Marseille 8e Arrondissement    Validé         2005-08-28     2024-02-22   \n",
      "3  Marseille 8e Arrondissement    Validé         2005-08-28     2024-02-22   \n",
      "4  Marseille 8e Arrondissement    Validé         2005-08-28     2012-09-16   \n",
      "5  Marseille 8e Arrondissement    Validé         2005-08-28     2012-09-16   \n",
      "6  Marseille 8e Arrondissement  Attribué         2005-11-03     2019-09-27   \n",
      "7  Marseille 8e Arrondissement  Attribué         2005-11-17     2019-09-27   \n",
      "8  Marseille 8e Arrondissement  Attribué         2005-11-17     2019-09-27   \n",
      "9  Marseille 8e Arrondissement    Validé         2005-11-17     2024-04-24   \n",
      "\n",
      "  inst_date_valid inst_acc_handi_bool  ... equip_pmr_aire equip_pmr_douche  \\\n",
      "0      2012-09-16                True  ...           True              NaN   \n",
      "1      2024-04-23               False  ...          False              NaN   \n",
      "2      2024-02-22               False  ...          False              NaN   \n",
      "3      2024-02-22               False  ...           True              NaN   \n",
      "4      2012-09-16               False  ...          False              NaN   \n",
      "5      2012-09-16               False  ...          False              NaN   \n",
      "6      2017-08-02               False  ...          False              NaN   \n",
      "7      2013-10-08               False  ...          False              NaN   \n",
      "8      2013-10-08               False  ...          False              NaN   \n",
      "9      2024-04-24               False  ...          False              NaN   \n",
      "\n",
      "  equip_pmr_sanit  equip_travaux_date equip_service_date  \\\n",
      "0           False              2011.0                NaN   \n",
      "1           False                 NaN             1965.0   \n",
      "2           False              2006.0             1973.0   \n",
      "3           False              2006.0             1962.0   \n",
      "4           False                 NaN                NaN   \n",
      "5           False                 NaN                NaN   \n",
      "6           False                 NaN                NaN   \n",
      "7           False              2004.0                NaN   \n",
      "8           False              2002.0                NaN   \n",
      "9           False                 NaN                NaN   \n",
      "\n",
      "                                  equip_travaux_type            equip_energie  \\\n",
      "0  [\"Inadaptation aux attentes des usagers\", \"Vét...                      NaN   \n",
      "1                                                NaN                      NaN   \n",
      "2                                [\"Vétusté normale\"]   [\"Electricité\", \"Gaz\"]   \n",
      "3                                [\"Vétusté normale\"]                      NaN   \n",
      "4                                                NaN                      NaN   \n",
      "5                                                NaN                      NaN   \n",
      "6                                [\"Vétusté normale\"]                      NaN   \n",
      "7                                                NaN                      NaN   \n",
      "8                                                NaN  [\"Electricité\", \"Fuel\"]   \n",
      "9                                                NaN          [\"Electricité\"]   \n",
      "\n",
      "                  equip_prop_type                dens_lib zrr_simp  \n",
      "0                         Commune  Grands centres urbains      NaN  \n",
      "1                          Région  Grands centres urbains      NaN  \n",
      "2                         Commune  Grands centres urbains      NaN  \n",
      "3                         Commune  Grands centres urbains      NaN  \n",
      "4                         Commune  Grands centres urbains      NaN  \n",
      "5                         Commune  Grands centres urbains      NaN  \n",
      "6                            Etat  Grands centres urbains      NaN  \n",
      "7  Etablissement privé commercial  Grands centres urbains      NaN  \n",
      "8  Etablissement privé commercial  Grands centres urbains      NaN  \n",
      "9                         Commune  Grands centres urbains      NaN  \n",
      "\n",
      "[10 rows x 32 columns]\n"
     ]
    }
   ],
   "source": [
    "import pandas as pd\n",
    "\n",
    "url = \"https://www.data.gouv.fr/fr/datasets/r/ea4f5879-af40-4e3e-949d-812d6eeb5e02\"\n",
    "\n",
    "data = pd.read_csv(url, delimiter=';')\n",
    "\n",
    "recensement = data[['inst_numero', 'inst_nom', 'dep_nom', 'new_code', 'new_name', 'inst_etat', \n",
    "                    'inst_date_creation', 'inst_date_etat', 'inst_date_valid', 'inst_acc_handi_bool', \n",
    "                    'inst_trans_bool', 'equip_numero', 'equip_nom', 'equip_type_code', \n",
    "                    'equip_type_name', 'equip_type_famille', 'equip_x', 'equip_y', \n",
    "                    'equip_etat', 'equip_eclair', 'equip_douche', 'equip_sanit', \n",
    "                    'equip_pmr_aire', 'equip_pmr_douche', 'equip_pmr_sanit', \n",
    "                    'equip_travaux_date', 'equip_service_date', 'equip_travaux_type', \n",
    "                    'equip_energie', 'equip_prop_type', 'dens_lib', 'zrr_simp']]\n",
    "\n",
    "print(recensement.head(10))"
   ]
  },
  {
   "cell_type": "markdown",
   "metadata": {},
   "source": [
    "Pour rentrer dans le détail de la construction de ces données, la base contient environ 330 000 lignes et 117 variables. Une ligne correspond non pas à un site où l’activité sportive est possible mais à une infrastructure, si bien que pour un lieu où plusieurs sports sont proposés, un même site est dupliqué autant de fois qu’il est nécessaire. Pour prendre un exemple concret, la piscine d’Orgnac-l’Aven compte deux bassins distincts, donc il y a deux lignes distinctes dans le jeu de données, même si les deux bassins se situent au même lieu."
   ]
  },
  {
   "cell_type": "code",
   "execution_count": 4,
   "metadata": {},
   "outputs": [
    {
     "name": "stdout",
     "output_type": "stream",
     "text": [
      "      inst_nom       new_name inst_date_creation             equip_nom\n",
      "27755  PISCINE  Orgnac-l'Aven         2005-10-20  Bassin rectangulaire\n",
      "27756  PISCINE  Orgnac-l'Aven         2005-10-20           Bassin rond\n"
     ]
    }
   ],
   "source": [
    "exemple = recensement[recensement['inst_numero'] == 'I071680005'][['inst_nom', 'new_name', 'inst_date_creation', 'equip_nom']]\n",
    "print(exemple)"
   ]
  },
  {
   "cell_type": "markdown",
   "metadata": {},
   "source": [
    "Quand ce cas se présentait à nous, nous avons décidé de ne conserver qu’une seule ligne, en cela qu’à la fin une ligne corresponde à une adresse postale. En vue de notre analyse en termes de désert sportif, il nous est apparu plus judicieux de faire ce choix méthodologique afin de comparer plus facilement les territoires entre eux. Afin de conserver la dimension de diversité et d’ampleur des activités proposées, nous avons quantifier dans une nouvelle colonne le nombre de lignes correspondant à l’adresse postale en question. Pour savoir, quelle infrastructure il s’agissait de garder, nous ne nous sommes pas référés à la variable « equip_nom » qui recense au détail l’infrastructure, mais à la variable « equip_type_famille » dont le niveau de détail est moins élevé et recense les infrastructures par grandes familles de sports."
   ]
  },
  {
   "cell_type": "code",
   "execution_count": 2,
   "metadata": {},
   "outputs": [],
   "source": [
    "doublons = (recensement\n",
    "            .groupby(['inst_nom', 'new_code'])\n",
    "            .size()\n",
    "            .reset_index(name='n')\n",
    "            .query('n > 0'))\n",
    "distinct = recensement.drop_duplicates(subset=['inst_nom', 'new_code'], keep='first')\n",
    "df_epure = pd.merge(distinct, doublons, on=['inst_nom', 'new_code'], how='outer')"
   ]
  },
  {
   "cell_type": "markdown",
   "metadata": {},
   "source": [
    "## B. Création de nouvelles variables "
   ]
  },
  {
   "cell_type": "markdown",
   "metadata": {},
   "source": [
    "# II/ Analyse descriptive et représentation graphique"
   ]
  },
  {
   "cell_type": "markdown",
   "metadata": {},
   "source": [
    "## A. Description de la base de données utilisée"
   ]
  },
  {
   "cell_type": "markdown",
   "metadata": {},
   "source": [
    "Des petits histogrammes"
   ]
  },
  {
   "cell_type": "markdown",
   "metadata": {},
   "source": [
    "## B. Grandes tendances observées"
   ]
  },
  {
   "cell_type": "markdown",
   "metadata": {},
   "source": [
    "Cartographie"
   ]
  },
  {
   "cell_type": "markdown",
   "metadata": {},
   "source": [
    "# III/ Modélisation"
   ]
  }
 ],
 "metadata": {
  "kernelspec": {
   "display_name": "base",
   "language": "python",
   "name": "python3"
  },
  "language_info": {
   "codemirror_mode": {
    "name": "ipython",
    "version": 3
   },
   "file_extension": ".py",
   "mimetype": "text/x-python",
   "name": "python",
   "nbconvert_exporter": "python",
   "pygments_lexer": "ipython3",
   "version": "3.12.7"
  }
 },
 "nbformat": 4,
 "nbformat_minor": 2
}
