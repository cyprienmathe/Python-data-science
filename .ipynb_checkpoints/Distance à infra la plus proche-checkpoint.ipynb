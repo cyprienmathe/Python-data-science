{
 "cells": [
  {
   "cell_type": "code",
   "execution_count": 2,
   "id": "cd76b051-dffd-4df9-bbe4-d8710d9449b5",
   "metadata": {},
   "outputs": [
    {
     "name": "stdout",
     "output_type": "stream",
     "text": [
      "Collecting geopy\n",
      "  Downloading geopy-2.4.1-py3-none-any.whl.metadata (6.8 kB)\n",
      "Collecting geographiclib<3,>=1.52 (from geopy)\n",
      "  Downloading geographiclib-2.0-py3-none-any.whl.metadata (1.4 kB)\n",
      "Downloading geopy-2.4.1-py3-none-any.whl (125 kB)\n",
      "Downloading geographiclib-2.0-py3-none-any.whl (40 kB)\n",
      "Installing collected packages: geographiclib, geopy\n",
      "Successfully installed geographiclib-2.0 geopy-2.4.1\n",
      "Note: you may need to restart the kernel to use updated packages.\n"
     ]
    }
   ],
   "source": [
    "pip install geopy"
   ]
  },
  {
   "cell_type": "code",
   "execution_count": 3,
   "id": "a3fdd887-5901-42e8-8570-3aa7810184fd",
   "metadata": {},
   "outputs": [],
   "source": [
    "#Mise en place de la dataframe GeoPandas\n",
    "import math\n",
    "import pandas as pd\n",
    "import geopandas as gpd\n",
    "from shapely.geometry import Point\n",
    "import matplotlib.pyplot as plt\n",
    "import requests\n",
    "import io\n",
    "from geopy.geocoders import Nominatim"
   ]
  },
  {
   "cell_type": "code",
   "execution_count": 6,
   "id": "518945ce-e9f4-4227-a288-b36dedd1d549",
   "metadata": {},
   "outputs": [],
   "source": [
    "json_url = \"https://equipements.sports.gouv.fr/api/explore/v2.1/catalog/datasets/data-es/exports/json?lang=fr&timezone=Europe%2FParis&select=equip_nom%2C%20equip_service_date%2C%20equip_type_name%2C%20coordonnees%2C%20equip_x%2C%20equip_y\"\n",
    "req = requests.get(json_url)\n",
    "json_data = req.json()\n",
    "df_dirty = pd.DataFrame(json_data)\n",
    "df_dirty['equip_service_date'] = pd.to_numeric(df_dirty['equip_service_date'], errors='coerce')\n",
    "df = df_dirty.dropna(subset=['equip_service_date'])\n",
    "\n",
    "# Les coordonnées sont au format WGS84 d'après la documentation. On définit donc le CRS en adéquation.\n",
    "geodf = gpd.GeoDataFrame(df, geometry=gpd.points_from_xy(df['equip_x'], df['equip_y']), crs=\"EPSG:4326\")  "
   ]
  },
  {
   "cell_type": "code",
   "execution_count": 7,
   "id": "a5acb202-0e34-4b8c-8f41-76c99e5ba6dc",
   "metadata": {},
   "outputs": [
    {
     "data": {
      "text/html": [
       "<div>\n",
       "<style scoped>\n",
       "    .dataframe tbody tr th:only-of-type {\n",
       "        vertical-align: middle;\n",
       "    }\n",
       "\n",
       "    .dataframe tbody tr th {\n",
       "        vertical-align: top;\n",
       "    }\n",
       "\n",
       "    .dataframe thead th {\n",
       "        text-align: right;\n",
       "    }\n",
       "</style>\n",
       "<table border=\"1\" class=\"dataframe\">\n",
       "  <thead>\n",
       "    <tr style=\"text-align: right;\">\n",
       "      <th></th>\n",
       "      <th>equip_nom</th>\n",
       "      <th>equip_service_date</th>\n",
       "      <th>equip_type_name</th>\n",
       "      <th>coordonnees</th>\n",
       "      <th>equip_x</th>\n",
       "      <th>equip_y</th>\n",
       "      <th>geometry</th>\n",
       "    </tr>\n",
       "  </thead>\n",
       "  <tbody>\n",
       "    <tr>\n",
       "      <th>3</th>\n",
       "      <td>STAND DE TIR</td>\n",
       "      <td>1986.0</td>\n",
       "      <td>Pas de tir à la cible</td>\n",
       "      <td>{'lon': 5.58084, 'lat': 43.3852}</td>\n",
       "      <td>5.580840</td>\n",
       "      <td>43.385200</td>\n",
       "      <td>POINT (5.58084 43.3852)</td>\n",
       "    </tr>\n",
       "    <tr>\n",
       "      <th>5</th>\n",
       "      <td>TERRAIN DE BOULES 2</td>\n",
       "      <td>1994.0</td>\n",
       "      <td>Terrain de boules</td>\n",
       "      <td>{'lon': 5.5817, 'lat': 43.64302}</td>\n",
       "      <td>5.581700</td>\n",
       "      <td>43.643020</td>\n",
       "      <td>POINT (5.5817 43.64302)</td>\n",
       "    </tr>\n",
       "    <tr>\n",
       "      <th>6</th>\n",
       "      <td>AVEN DE JESUS CHRIST</td>\n",
       "      <td>1948.0</td>\n",
       "      <td>Site de spéléologie sportive et/ou éducative</td>\n",
       "      <td>{'lon': 5.4619, 'lat': 43.37887}</td>\n",
       "      <td>5.461900</td>\n",
       "      <td>43.378870</td>\n",
       "      <td>POINT (5.4619 43.37887)</td>\n",
       "    </tr>\n",
       "    <tr>\n",
       "      <th>7</th>\n",
       "      <td>MUR D'ESCALADE</td>\n",
       "      <td>2005.0</td>\n",
       "      <td>Structure Artificielle d'Escalade</td>\n",
       "      <td>{'lon': 5.46891, 'lat': 43.3533}</td>\n",
       "      <td>5.468910</td>\n",
       "      <td>43.353300</td>\n",
       "      <td>POINT (5.46891 43.3533)</td>\n",
       "    </tr>\n",
       "    <tr>\n",
       "      <th>8</th>\n",
       "      <td>SALLE DE DANSE</td>\n",
       "      <td>2004.0</td>\n",
       "      <td>Salle de danse</td>\n",
       "      <td>{'lon': 5.46891, 'lat': 43.3533}</td>\n",
       "      <td>5.468910</td>\n",
       "      <td>43.353300</td>\n",
       "      <td>POINT (5.46891 43.3533)</td>\n",
       "    </tr>\n",
       "    <tr>\n",
       "      <th>9</th>\n",
       "      <td>STADE DE FOOT</td>\n",
       "      <td>2012.0</td>\n",
       "      <td>Terrain de football</td>\n",
       "      <td>{'lon': 5.46757, 'lat': 43.35455}</td>\n",
       "      <td>5.467570</td>\n",
       "      <td>43.354550</td>\n",
       "      <td>POINT (5.46757 43.35455)</td>\n",
       "    </tr>\n",
       "    <tr>\n",
       "      <th>16</th>\n",
       "      <td>CENTRE EQUESTRE LA MARQUISANE</td>\n",
       "      <td>1998.0</td>\n",
       "      <td>Carrière</td>\n",
       "      <td>{'lon': 5.4709, 'lat': 43.35531}</td>\n",
       "      <td>5.470900</td>\n",
       "      <td>43.355310</td>\n",
       "      <td>POINT (5.4709 43.35531)</td>\n",
       "    </tr>\n",
       "    <tr>\n",
       "      <th>18</th>\n",
       "      <td>SALLE DE DANSE</td>\n",
       "      <td>2013.0</td>\n",
       "      <td>Salle de danse</td>\n",
       "      <td>{'lon': 5.00246, 'lat': 43.81332}</td>\n",
       "      <td>5.002460</td>\n",
       "      <td>43.813320</td>\n",
       "      <td>POINT (5.00246 43.81332)</td>\n",
       "    </tr>\n",
       "    <tr>\n",
       "      <th>19</th>\n",
       "      <td>SALLE DE MUSCULATION</td>\n",
       "      <td>2013.0</td>\n",
       "      <td>Salle d'haltérophilie</td>\n",
       "      <td>{'lon': 5.002458, 'lat': 43.813324}</td>\n",
       "      <td>5.002458</td>\n",
       "      <td>43.813324</td>\n",
       "      <td>POINT (5.00246 43.81332)</td>\n",
       "    </tr>\n",
       "    <tr>\n",
       "      <th>20</th>\n",
       "      <td>MUR D'ESCALADE</td>\n",
       "      <td>2013.0</td>\n",
       "      <td>Structure Artificielle d'Escalade</td>\n",
       "      <td>{'lon': 5.002458, 'lat': 43.813324}</td>\n",
       "      <td>5.002458</td>\n",
       "      <td>43.813324</td>\n",
       "      <td>POINT (5.00246 43.81332)</td>\n",
       "    </tr>\n",
       "  </tbody>\n",
       "</table>\n",
       "</div>"
      ],
      "text/plain": [
       "                        equip_nom  equip_service_date  \\\n",
       "3                    STAND DE TIR              1986.0   \n",
       "5             TERRAIN DE BOULES 2              1994.0   \n",
       "6            AVEN DE JESUS CHRIST              1948.0   \n",
       "7                  MUR D'ESCALADE              2005.0   \n",
       "8                  SALLE DE DANSE              2004.0   \n",
       "9                   STADE DE FOOT              2012.0   \n",
       "16  CENTRE EQUESTRE LA MARQUISANE              1998.0   \n",
       "18                 SALLE DE DANSE              2013.0   \n",
       "19           SALLE DE MUSCULATION              2013.0   \n",
       "20                 MUR D'ESCALADE              2013.0   \n",
       "\n",
       "                                 equip_type_name  \\\n",
       "3                          Pas de tir à la cible   \n",
       "5                              Terrain de boules   \n",
       "6   Site de spéléologie sportive et/ou éducative   \n",
       "7              Structure Artificielle d'Escalade   \n",
       "8                                 Salle de danse   \n",
       "9                            Terrain de football   \n",
       "16                                      Carrière   \n",
       "18                                Salle de danse   \n",
       "19                         Salle d'haltérophilie   \n",
       "20             Structure Artificielle d'Escalade   \n",
       "\n",
       "                            coordonnees   equip_x    equip_y  \\\n",
       "3      {'lon': 5.58084, 'lat': 43.3852}  5.580840  43.385200   \n",
       "5      {'lon': 5.5817, 'lat': 43.64302}  5.581700  43.643020   \n",
       "6      {'lon': 5.4619, 'lat': 43.37887}  5.461900  43.378870   \n",
       "7      {'lon': 5.46891, 'lat': 43.3533}  5.468910  43.353300   \n",
       "8      {'lon': 5.46891, 'lat': 43.3533}  5.468910  43.353300   \n",
       "9     {'lon': 5.46757, 'lat': 43.35455}  5.467570  43.354550   \n",
       "16     {'lon': 5.4709, 'lat': 43.35531}  5.470900  43.355310   \n",
       "18    {'lon': 5.00246, 'lat': 43.81332}  5.002460  43.813320   \n",
       "19  {'lon': 5.002458, 'lat': 43.813324}  5.002458  43.813324   \n",
       "20  {'lon': 5.002458, 'lat': 43.813324}  5.002458  43.813324   \n",
       "\n",
       "                    geometry  \n",
       "3    POINT (5.58084 43.3852)  \n",
       "5    POINT (5.5817 43.64302)  \n",
       "6    POINT (5.4619 43.37887)  \n",
       "7    POINT (5.46891 43.3533)  \n",
       "8    POINT (5.46891 43.3533)  \n",
       "9   POINT (5.46757 43.35455)  \n",
       "16   POINT (5.4709 43.35531)  \n",
       "18  POINT (5.00246 43.81332)  \n",
       "19  POINT (5.00246 43.81332)  \n",
       "20  POINT (5.00246 43.81332)  "
      ]
     },
     "execution_count": 7,
     "metadata": {},
     "output_type": "execute_result"
    }
   ],
   "source": [
    "#Test\n",
    "geodf.head(10)"
   ]
  },
  {
   "cell_type": "code",
   "execution_count": 8,
   "id": "0719f2ff-3a75-4203-bab5-1fcd2aa006de",
   "metadata": {},
   "outputs": [],
   "source": [
    "#Recherche de l'infrastructure la plus proche de (x,y) en exploitant les opérations vectorisées de Pandas :\n",
    "def closest_infra(x,y) :\n",
    "    point = Point(x,y) # Coord. en format WGS84\n",
    "    geodf_proj = geodf.to_crs(epsg=3857) \n",
    "    point_proj = gpd.GeoSeries([point], crs=\"EPSG:4326\").to_crs(epsg=3857)[0] # Reprojeter les coordonnées (format WGS84) en système métrique pour augmenter la précision\n",
    "    geodf_proj['distance'] = geodf_proj.geometry.distance(point_proj) # Calcul des distances entre notre point et toutes les infrastructures, grâce à GeoPandas\n",
    "    indice_closest = geodf_proj['distance'].idxmin() # Retourner l'indice du minimul avec idxmin\n",
    "    return geodf.loc[indice_closest]"
   ]
  },
  {
   "cell_type": "code",
   "execution_count": 9,
   "id": "6dba0536-6192-4069-8841-5f656084613d",
   "metadata": {},
   "outputs": [
    {
     "data": {
      "text/plain": [
       "equip_nom                           PLATEAU D'EVOLUTION\n",
       "equip_service_date                               1975.0\n",
       "equip_type_name                 Multisports/City-stades\n",
       "coordonnees           {'lon': 2.42674, 'lat': 48.54706}\n",
       "equip_x                                         2.42674\n",
       "equip_y                                        48.54706\n",
       "geometry                       POINT (2.42674 48.54706)\n",
       "Name: 235251, dtype: object"
      ]
     },
     "execution_count": 9,
     "metadata": {},
     "output_type": "execute_result"
    }
   ],
   "source": [
    "closest_infra(2.422434324, 48.54397854)"
   ]
  },
  {
   "cell_type": "code",
   "execution_count": 10,
   "id": "8feeea5f-7fd8-4e9f-a603-ac2f65aafc82",
   "metadata": {},
   "outputs": [
    {
     "data": {
      "text/plain": [
       "equip_nom                                BASE NAUTIQUE\n",
       "equip_service_date                              1989.0\n",
       "equip_type_name                  Stade de ski nautique\n",
       "coordonnees           {'lon': 1.42864, 'lat': 45.5458}\n",
       "equip_x                                        1.42864\n",
       "equip_y                                        45.5458\n",
       "geometry                       POINT (1.42864 45.5458)\n",
       "Name: 265918, dtype: object"
      ]
     },
     "execution_count": 10,
     "metadata": {},
     "output_type": "execute_result"
    }
   ],
   "source": [
    "closest_infra(1.422434324, 45.54397854)"
   ]
  },
  {
   "cell_type": "code",
   "execution_count": 11,
   "id": "0b197722-d402-4e00-a03a-3dae041c8b06",
   "metadata": {},
   "outputs": [],
   "source": [
    "def closest_infra_address(address, gdf):\n",
    "    geolocator = Nominatim(user_agent=\"projet_python_infra_sport\") #Géocodage de l'adresse\n",
    "    location = geolocator.geocode(address)\n",
    "    #\n",
    "    if location is None:\n",
    "        raise ValueError(\"Adresse introuvable\")\n",
    "    #\n",
    "    input_point = Point(location.longitude, location.latitude) #Récupération des coordonnées géographiques\n",
    "    input_gdf = gpd.GeoDataFrame(geometry=[input_point], crs=\"EPSG:4326\")\n",
    "    #\n",
    "    gdf_proj = gdf.to_crs(\"EPSG:2154\") # Projection de gdf en système métrique, base temporaire (pour obtenir la distance en mètres)\n",
    "    input_gdf_proj = input_gdf.to_crs(\"EPSG:2154\") # Projection des coordonnées géographiques en système métrique\n",
    "    input_point_proj = input_gdf_proj.geometry.iloc[0] # Extraction du point reprojeté en système métrique\n",
    "    #\n",
    "    gdf_proj['distance'] = gdf_proj.geometry.distance(input_point_proj) # Calcul des distances en système métrique\n",
    "    closest_id = gdf_proj['distance'].idxmin() # Retourner l'indice du minimul avec idxmin\n",
    "    closest = gdf.loc[closest_id] # Obtenir l'infrastructure la plus proche dans la base principale\n",
    "    dist = gdf_proj.loc[closest_id, 'distance'] # Obtenir la distance\n",
    "    return closest, dist"
   ]
  },
  {
   "cell_type": "code",
   "execution_count": 12,
   "id": "50cd534d-1ae5-4ffb-8991-d61acb70731a",
   "metadata": {},
   "outputs": [
    {
     "data": {
      "text/plain": [
       "(equip_nom                                        MANEGE\n",
       " equip_service_date                               1976.0\n",
       " equip_type_name                                  Manège\n",
       " coordonnees           {'lon': 2.20645, 'lat': 48.70994}\n",
       " equip_x                                         2.20645\n",
       " equip_y                                        48.70994\n",
       " geometry                       POINT (2.20645 48.70994)\n",
       " Name: 235696, dtype: object,\n",
       " np.float64(159.05219064268366))"
      ]
     },
     "execution_count": 12,
     "metadata": {},
     "output_type": "execute_result"
    }
   ],
   "source": [
    "closest_infra_address('5 Av. Le Chatelier, Palaiseau', geodf)"
   ]
  },
  {
   "cell_type": "code",
   "execution_count": 13,
   "id": "d56db16f-7875-4edd-8adf-24b811fc628f",
   "metadata": {},
   "outputs": [],
   "source": [
    "def closest_infra_address_equiptype(address, equip_type, gdf):\n",
    "    gdf_filter = gdf[gdf['equip_type_name'] == equip_type]\n",
    "    gdf_filter = gdf_filter.copy()\n",
    "    return closest_infra_address(address, gdf_filter)"
   ]
  },
  {
   "cell_type": "code",
   "execution_count": 14,
   "id": "9b1d7d9c-a3b3-4ffa-895f-3050be7d97ca",
   "metadata": {},
   "outputs": [
    {
     "data": {
      "text/plain": [
       "(equip_nom                              COURTS DE TENNIS 4\n",
       " equip_service_date                                 1964.0\n",
       " equip_type_name                           Court de tennis\n",
       " coordonnees           {'lon': 2.196922, 'lat': 48.700712}\n",
       " equip_x                                          2.196922\n",
       " equip_y                                         48.700712\n",
       " geometry                       POINT (2.196922 48.700712)\n",
       " Name: 235651, dtype: object,\n",
       " np.float64(1400.1613311646356))"
      ]
     },
     "execution_count": 14,
     "metadata": {},
     "output_type": "execute_result"
    }
   ],
   "source": [
    "closest_infra_address_equiptype('5 Av. Le Chatelier, Palaiseau', 'Court de tennis', geodf)"
   ]
  },
  {
   "cell_type": "code",
   "execution_count": 15,
   "id": "20880eaa-fd35-4a9d-91df-add81a0e6b7f",
   "metadata": {},
   "outputs": [
    {
     "data": {
      "text/plain": [
       "(equip_nom                                        MANEGE\n",
       " equip_service_date                               1976.0\n",
       " equip_type_name                                  Manège\n",
       " coordonnees           {'lon': 2.20645, 'lat': 48.70994}\n",
       " equip_x                                         2.20645\n",
       " equip_y                                        48.70994\n",
       " geometry                       POINT (2.20645 48.70994)\n",
       " Name: 235696, dtype: object,\n",
       " np.float64(159.05219064268366))"
      ]
     },
     "execution_count": 15,
     "metadata": {},
     "output_type": "execute_result"
    }
   ],
   "source": [
    "closest_infra_address('5 Av. Le Chatelier, Palaiseau', geodf)"
   ]
  },
  {
   "cell_type": "code",
   "execution_count": 17,
   "id": "e3e68258-4816-4c84-b04c-653d47a86411",
   "metadata": {},
   "outputs": [
    {
     "data": {
      "text/plain": [
       "(equip_nom                   Terrain synthétique Grenier\n",
       " equip_service_date                               2000.0\n",
       " equip_type_name                     Terrain de football\n",
       " coordonnees           {'lon': 0.10842, 'lat': 49.50316}\n",
       " equip_x                                         0.10842\n",
       " equip_y                                        49.50316\n",
       " geometry                       POINT (0.10842 49.50316)\n",
       " Name: 220573, dtype: object,\n",
       " np.float64(683.8422740924066))"
      ]
     },
     "execution_count": 17,
     "metadata": {},
     "output_type": "execute_result"
    }
   ],
   "source": [
    "closest_infra_address('5 rue Michel Ange, Le Havre', geodf) "
   ]
  },
  {
   "cell_type": "code",
   "execution_count": null,
   "id": "24b72e32-97a1-4781-a9bf-63b8a5a23541",
   "metadata": {},
   "outputs": [],
   "source": [
    "# https://www.bestrandoms.com/random-address-in-fr / pour générer des adresses aléatoires"
   ]
  }
 ],
 "metadata": {
  "kernelspec": {
   "display_name": "Python 3 (ipykernel)",
   "language": "python",
   "name": "python3"
  },
  "language_info": {
   "codemirror_mode": {
    "name": "ipython",
    "version": 3
   },
   "file_extension": ".py",
   "mimetype": "text/x-python",
   "name": "python",
   "nbconvert_exporter": "python",
   "pygments_lexer": "ipython3",
   "version": "3.12.7"
  }
 },
 "nbformat": 4,
 "nbformat_minor": 5
}
